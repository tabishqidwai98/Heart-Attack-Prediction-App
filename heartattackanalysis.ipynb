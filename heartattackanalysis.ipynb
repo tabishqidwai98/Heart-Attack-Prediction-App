{
 "cells": [
  {
   "cell_type": "code",
   "execution_count": 1,
   "id": "09ae3eb4",
   "metadata": {
    "_cell_guid": "b1076dfc-b9ad-4769-8c92-a6c4dae69d19",
    "_uuid": "8f2839f25d086af736a60e9eeb907d3b93b6e0e5",
    "execution": {
     "iopub.execute_input": "2023-12-02T12:34:19.902313Z",
     "iopub.status.busy": "2023-12-02T12:34:19.901350Z",
     "iopub.status.idle": "2023-12-02T12:34:20.364308Z",
     "shell.execute_reply": "2023-12-02T12:34:20.362911Z"
    },
    "papermill": {
     "duration": 0.489858,
     "end_time": "2023-12-02T12:34:20.367251",
     "exception": false,
     "start_time": "2023-12-02T12:34:19.877393",
     "status": "completed"
    },
    "tags": []
   },
   "outputs": [],
   "source": [
    "# This Python 3 environment comes with many helpful analytics libraries installed\n",
    "# It is defined by the kaggle/python Docker image: https://github.com/kaggle/docker-python\n",
    "# For example, here's several helpful packages to load\n",
    "\n",
    "import numpy as np # linear algebra\n",
    "import pandas as pd # data processing, CSV file I/O (e.g. pd.read_csv)\n",
    "\n",
    "# Input data files are available in the read-only \"../input/\" directory\n",
    "# For example, running this (by clicking run or pressing Shift+Enter) will list all files under the input directory\n",
    "\n",
    "# You can write up to 20GB to the current directory (/kaggle/working/) that gets preserved as output when you create a version using \"Save & Run All\" \n",
    "# You can also write temporary files to /kaggle/temp/, but they won't be saved outside of the current session"
   ]
  },
  {
   "cell_type": "code",
   "execution_count": 2,
   "id": "fa1bfb9a",
   "metadata": {
    "execution": {
     "iopub.execute_input": "2023-12-02T12:34:20.409942Z",
     "iopub.status.busy": "2023-12-02T12:34:20.408514Z",
     "iopub.status.idle": "2023-12-02T12:34:20.436784Z",
     "shell.execute_reply": "2023-12-02T12:34:20.435401Z"
    },
    "papermill": {
     "duration": 0.052626,
     "end_time": "2023-12-02T12:34:20.439795",
     "exception": false,
     "start_time": "2023-12-02T12:34:20.387169",
     "status": "completed"
    },
    "tags": []
   },
   "outputs": [],
   "source": [
    "df = pd.read_csv(\"E:/Project Work/Heart-Attack-Prediction-App/Heart datasets/heart.csv\")"
   ]
  },
  {
   "cell_type": "code",
   "execution_count": 3,
   "id": "ae26dc45",
   "metadata": {
    "execution": {
     "iopub.execute_input": "2023-12-02T12:34:20.481909Z",
     "iopub.status.busy": "2023-12-02T12:34:20.481497Z",
     "iopub.status.idle": "2023-12-02T12:34:20.512719Z",
     "shell.execute_reply": "2023-12-02T12:34:20.511463Z"
    },
    "papermill": {
     "duration": 0.055395,
     "end_time": "2023-12-02T12:34:20.515510",
     "exception": false,
     "start_time": "2023-12-02T12:34:20.460115",
     "status": "completed"
    },
    "tags": []
   },
   "outputs": [
    {
     "data": {
      "text/html": [
       "<div>\n",
       "<style scoped>\n",
       "    .dataframe tbody tr th:only-of-type {\n",
       "        vertical-align: middle;\n",
       "    }\n",
       "\n",
       "    .dataframe tbody tr th {\n",
       "        vertical-align: top;\n",
       "    }\n",
       "\n",
       "    .dataframe thead th {\n",
       "        text-align: right;\n",
       "    }\n",
       "</style>\n",
       "<table border=\"1\" class=\"dataframe\">\n",
       "  <thead>\n",
       "    <tr style=\"text-align: right;\">\n",
       "      <th></th>\n",
       "      <th>age</th>\n",
       "      <th>sex</th>\n",
       "      <th>cp</th>\n",
       "      <th>trtbps</th>\n",
       "      <th>chol</th>\n",
       "      <th>fbs</th>\n",
       "      <th>restecg</th>\n",
       "      <th>thalachh</th>\n",
       "      <th>exng</th>\n",
       "      <th>oldpeak</th>\n",
       "      <th>slp</th>\n",
       "      <th>caa</th>\n",
       "      <th>thall</th>\n",
       "      <th>output</th>\n",
       "    </tr>\n",
       "  </thead>\n",
       "  <tbody>\n",
       "    <tr>\n",
       "      <th>0</th>\n",
       "      <td>63</td>\n",
       "      <td>1</td>\n",
       "      <td>3</td>\n",
       "      <td>145</td>\n",
       "      <td>233</td>\n",
       "      <td>1</td>\n",
       "      <td>0</td>\n",
       "      <td>150</td>\n",
       "      <td>0</td>\n",
       "      <td>2.3</td>\n",
       "      <td>0</td>\n",
       "      <td>0</td>\n",
       "      <td>1</td>\n",
       "      <td>1</td>\n",
       "    </tr>\n",
       "    <tr>\n",
       "      <th>1</th>\n",
       "      <td>37</td>\n",
       "      <td>1</td>\n",
       "      <td>2</td>\n",
       "      <td>130</td>\n",
       "      <td>250</td>\n",
       "      <td>0</td>\n",
       "      <td>1</td>\n",
       "      <td>187</td>\n",
       "      <td>0</td>\n",
       "      <td>3.5</td>\n",
       "      <td>0</td>\n",
       "      <td>0</td>\n",
       "      <td>2</td>\n",
       "      <td>1</td>\n",
       "    </tr>\n",
       "    <tr>\n",
       "      <th>2</th>\n",
       "      <td>41</td>\n",
       "      <td>0</td>\n",
       "      <td>1</td>\n",
       "      <td>130</td>\n",
       "      <td>204</td>\n",
       "      <td>0</td>\n",
       "      <td>0</td>\n",
       "      <td>172</td>\n",
       "      <td>0</td>\n",
       "      <td>1.4</td>\n",
       "      <td>2</td>\n",
       "      <td>0</td>\n",
       "      <td>2</td>\n",
       "      <td>1</td>\n",
       "    </tr>\n",
       "    <tr>\n",
       "      <th>3</th>\n",
       "      <td>56</td>\n",
       "      <td>1</td>\n",
       "      <td>1</td>\n",
       "      <td>120</td>\n",
       "      <td>236</td>\n",
       "      <td>0</td>\n",
       "      <td>1</td>\n",
       "      <td>178</td>\n",
       "      <td>0</td>\n",
       "      <td>0.8</td>\n",
       "      <td>2</td>\n",
       "      <td>0</td>\n",
       "      <td>2</td>\n",
       "      <td>1</td>\n",
       "    </tr>\n",
       "    <tr>\n",
       "      <th>4</th>\n",
       "      <td>57</td>\n",
       "      <td>0</td>\n",
       "      <td>0</td>\n",
       "      <td>120</td>\n",
       "      <td>354</td>\n",
       "      <td>0</td>\n",
       "      <td>1</td>\n",
       "      <td>163</td>\n",
       "      <td>1</td>\n",
       "      <td>0.6</td>\n",
       "      <td>2</td>\n",
       "      <td>0</td>\n",
       "      <td>2</td>\n",
       "      <td>1</td>\n",
       "    </tr>\n",
       "  </tbody>\n",
       "</table>\n",
       "</div>"
      ],
      "text/plain": [
       "   age  sex  cp  trtbps  chol  fbs  restecg  thalachh  exng  oldpeak  slp  \\\n",
       "0   63    1   3     145   233    1        0       150     0      2.3    0   \n",
       "1   37    1   2     130   250    0        1       187     0      3.5    0   \n",
       "2   41    0   1     130   204    0        0       172     0      1.4    2   \n",
       "3   56    1   1     120   236    0        1       178     0      0.8    2   \n",
       "4   57    0   0     120   354    0        1       163     1      0.6    2   \n",
       "\n",
       "   caa  thall  output  \n",
       "0    0      1       1  \n",
       "1    0      2       1  \n",
       "2    0      2       1  \n",
       "3    0      2       1  \n",
       "4    0      2       1  "
      ]
     },
     "execution_count": 3,
     "metadata": {},
     "output_type": "execute_result"
    }
   ],
   "source": [
    "df.head()"
   ]
  },
  {
   "cell_type": "code",
   "execution_count": 4,
   "metadata": {},
   "outputs": [
    {
     "data": {
      "text/html": [
       "<div>\n",
       "<style scoped>\n",
       "    .dataframe tbody tr th:only-of-type {\n",
       "        vertical-align: middle;\n",
       "    }\n",
       "\n",
       "    .dataframe tbody tr th {\n",
       "        vertical-align: top;\n",
       "    }\n",
       "\n",
       "    .dataframe thead th {\n",
       "        text-align: right;\n",
       "    }\n",
       "</style>\n",
       "<table border=\"1\" class=\"dataframe\">\n",
       "  <thead>\n",
       "    <tr style=\"text-align: right;\">\n",
       "      <th></th>\n",
       "      <th>age</th>\n",
       "      <th>sex</th>\n",
       "      <th>cp</th>\n",
       "      <th>trtbps</th>\n",
       "      <th>chol</th>\n",
       "      <th>fbs</th>\n",
       "      <th>restecg</th>\n",
       "      <th>thalachh</th>\n",
       "      <th>exng</th>\n",
       "      <th>oldpeak</th>\n",
       "      <th>slp</th>\n",
       "      <th>caa</th>\n",
       "      <th>thall</th>\n",
       "      <th>output</th>\n",
       "    </tr>\n",
       "  </thead>\n",
       "  <tbody>\n",
       "    <tr>\n",
       "      <th>count</th>\n",
       "      <td>303.000000</td>\n",
       "      <td>303.000000</td>\n",
       "      <td>303.000000</td>\n",
       "      <td>303.000000</td>\n",
       "      <td>303.000000</td>\n",
       "      <td>303.000000</td>\n",
       "      <td>303.000000</td>\n",
       "      <td>303.000000</td>\n",
       "      <td>303.000000</td>\n",
       "      <td>303.000000</td>\n",
       "      <td>303.000000</td>\n",
       "      <td>303.000000</td>\n",
       "      <td>303.000000</td>\n",
       "      <td>303.000000</td>\n",
       "    </tr>\n",
       "    <tr>\n",
       "      <th>mean</th>\n",
       "      <td>54.366337</td>\n",
       "      <td>0.683168</td>\n",
       "      <td>0.966997</td>\n",
       "      <td>131.623762</td>\n",
       "      <td>246.264026</td>\n",
       "      <td>0.148515</td>\n",
       "      <td>0.528053</td>\n",
       "      <td>149.646865</td>\n",
       "      <td>0.326733</td>\n",
       "      <td>1.039604</td>\n",
       "      <td>1.399340</td>\n",
       "      <td>0.729373</td>\n",
       "      <td>2.313531</td>\n",
       "      <td>0.544554</td>\n",
       "    </tr>\n",
       "    <tr>\n",
       "      <th>std</th>\n",
       "      <td>9.082101</td>\n",
       "      <td>0.466011</td>\n",
       "      <td>1.032052</td>\n",
       "      <td>17.538143</td>\n",
       "      <td>51.830751</td>\n",
       "      <td>0.356198</td>\n",
       "      <td>0.525860</td>\n",
       "      <td>22.905161</td>\n",
       "      <td>0.469794</td>\n",
       "      <td>1.161075</td>\n",
       "      <td>0.616226</td>\n",
       "      <td>1.022606</td>\n",
       "      <td>0.612277</td>\n",
       "      <td>0.498835</td>\n",
       "    </tr>\n",
       "    <tr>\n",
       "      <th>min</th>\n",
       "      <td>29.000000</td>\n",
       "      <td>0.000000</td>\n",
       "      <td>0.000000</td>\n",
       "      <td>94.000000</td>\n",
       "      <td>126.000000</td>\n",
       "      <td>0.000000</td>\n",
       "      <td>0.000000</td>\n",
       "      <td>71.000000</td>\n",
       "      <td>0.000000</td>\n",
       "      <td>0.000000</td>\n",
       "      <td>0.000000</td>\n",
       "      <td>0.000000</td>\n",
       "      <td>0.000000</td>\n",
       "      <td>0.000000</td>\n",
       "    </tr>\n",
       "    <tr>\n",
       "      <th>25%</th>\n",
       "      <td>47.500000</td>\n",
       "      <td>0.000000</td>\n",
       "      <td>0.000000</td>\n",
       "      <td>120.000000</td>\n",
       "      <td>211.000000</td>\n",
       "      <td>0.000000</td>\n",
       "      <td>0.000000</td>\n",
       "      <td>133.500000</td>\n",
       "      <td>0.000000</td>\n",
       "      <td>0.000000</td>\n",
       "      <td>1.000000</td>\n",
       "      <td>0.000000</td>\n",
       "      <td>2.000000</td>\n",
       "      <td>0.000000</td>\n",
       "    </tr>\n",
       "    <tr>\n",
       "      <th>50%</th>\n",
       "      <td>55.000000</td>\n",
       "      <td>1.000000</td>\n",
       "      <td>1.000000</td>\n",
       "      <td>130.000000</td>\n",
       "      <td>240.000000</td>\n",
       "      <td>0.000000</td>\n",
       "      <td>1.000000</td>\n",
       "      <td>153.000000</td>\n",
       "      <td>0.000000</td>\n",
       "      <td>0.800000</td>\n",
       "      <td>1.000000</td>\n",
       "      <td>0.000000</td>\n",
       "      <td>2.000000</td>\n",
       "      <td>1.000000</td>\n",
       "    </tr>\n",
       "    <tr>\n",
       "      <th>75%</th>\n",
       "      <td>61.000000</td>\n",
       "      <td>1.000000</td>\n",
       "      <td>2.000000</td>\n",
       "      <td>140.000000</td>\n",
       "      <td>274.500000</td>\n",
       "      <td>0.000000</td>\n",
       "      <td>1.000000</td>\n",
       "      <td>166.000000</td>\n",
       "      <td>1.000000</td>\n",
       "      <td>1.600000</td>\n",
       "      <td>2.000000</td>\n",
       "      <td>1.000000</td>\n",
       "      <td>3.000000</td>\n",
       "      <td>1.000000</td>\n",
       "    </tr>\n",
       "    <tr>\n",
       "      <th>max</th>\n",
       "      <td>77.000000</td>\n",
       "      <td>1.000000</td>\n",
       "      <td>3.000000</td>\n",
       "      <td>200.000000</td>\n",
       "      <td>564.000000</td>\n",
       "      <td>1.000000</td>\n",
       "      <td>2.000000</td>\n",
       "      <td>202.000000</td>\n",
       "      <td>1.000000</td>\n",
       "      <td>6.200000</td>\n",
       "      <td>2.000000</td>\n",
       "      <td>4.000000</td>\n",
       "      <td>3.000000</td>\n",
       "      <td>1.000000</td>\n",
       "    </tr>\n",
       "  </tbody>\n",
       "</table>\n",
       "</div>"
      ],
      "text/plain": [
       "              age         sex          cp      trtbps        chol         fbs  \\\n",
       "count  303.000000  303.000000  303.000000  303.000000  303.000000  303.000000   \n",
       "mean    54.366337    0.683168    0.966997  131.623762  246.264026    0.148515   \n",
       "std      9.082101    0.466011    1.032052   17.538143   51.830751    0.356198   \n",
       "min     29.000000    0.000000    0.000000   94.000000  126.000000    0.000000   \n",
       "25%     47.500000    0.000000    0.000000  120.000000  211.000000    0.000000   \n",
       "50%     55.000000    1.000000    1.000000  130.000000  240.000000    0.000000   \n",
       "75%     61.000000    1.000000    2.000000  140.000000  274.500000    0.000000   \n",
       "max     77.000000    1.000000    3.000000  200.000000  564.000000    1.000000   \n",
       "\n",
       "          restecg    thalachh        exng     oldpeak         slp         caa  \\\n",
       "count  303.000000  303.000000  303.000000  303.000000  303.000000  303.000000   \n",
       "mean     0.528053  149.646865    0.326733    1.039604    1.399340    0.729373   \n",
       "std      0.525860   22.905161    0.469794    1.161075    0.616226    1.022606   \n",
       "min      0.000000   71.000000    0.000000    0.000000    0.000000    0.000000   \n",
       "25%      0.000000  133.500000    0.000000    0.000000    1.000000    0.000000   \n",
       "50%      1.000000  153.000000    0.000000    0.800000    1.000000    0.000000   \n",
       "75%      1.000000  166.000000    1.000000    1.600000    2.000000    1.000000   \n",
       "max      2.000000  202.000000    1.000000    6.200000    2.000000    4.000000   \n",
       "\n",
       "            thall      output  \n",
       "count  303.000000  303.000000  \n",
       "mean     2.313531    0.544554  \n",
       "std      0.612277    0.498835  \n",
       "min      0.000000    0.000000  \n",
       "25%      2.000000    0.000000  \n",
       "50%      2.000000    1.000000  \n",
       "75%      3.000000    1.000000  \n",
       "max      3.000000    1.000000  "
      ]
     },
     "execution_count": 4,
     "metadata": {},
     "output_type": "execute_result"
    }
   ],
   "source": [
    "df.describe()"
   ]
  },
  {
   "cell_type": "markdown",
   "metadata": {},
   "source": []
  },
  {
   "cell_type": "code",
   "execution_count": 5,
   "id": "a1e11da8",
   "metadata": {
    "execution": {
     "iopub.execute_input": "2023-12-02T12:34:20.558212Z",
     "iopub.status.busy": "2023-12-02T12:34:20.557813Z",
     "iopub.status.idle": "2023-12-02T12:34:22.276335Z",
     "shell.execute_reply": "2023-12-02T12:34:22.274903Z"
    },
    "papermill": {
     "duration": 1.743528,
     "end_time": "2023-12-02T12:34:22.279853",
     "exception": false,
     "start_time": "2023-12-02T12:34:20.536325",
     "status": "completed"
    },
    "tags": []
   },
   "outputs": [],
   "source": [
    "import matplotlib.pyplot as plt\n",
    "import seaborn as sns\n",
    "import sklearn"
   ]
  },
  {
   "cell_type": "code",
   "execution_count": 6,
   "id": "3617983b",
   "metadata": {
    "execution": {
     "iopub.execute_input": "2023-12-02T12:34:22.335785Z",
     "iopub.status.busy": "2023-12-02T12:34:22.335307Z",
     "iopub.status.idle": "2023-12-02T12:34:22.343528Z",
     "shell.execute_reply": "2023-12-02T12:34:22.342342Z"
    },
    "papermill": {
     "duration": 0.032143,
     "end_time": "2023-12-02T12:34:22.345945",
     "exception": false,
     "start_time": "2023-12-02T12:34:22.313802",
     "status": "completed"
    },
    "tags": []
   },
   "outputs": [
    {
     "data": {
      "text/plain": [
       "Index(['age', 'sex', 'cp', 'trtbps', 'chol', 'fbs', 'restecg', 'thalachh',\n",
       "       'exng', 'oldpeak', 'slp', 'caa', 'thall', 'output'],\n",
       "      dtype='object')"
      ]
     },
     "execution_count": 6,
     "metadata": {},
     "output_type": "execute_result"
    }
   ],
   "source": [
    "df.columns"
   ]
  },
  {
   "cell_type": "code",
   "execution_count": 7,
   "id": "8d5ea3a4",
   "metadata": {
    "execution": {
     "iopub.execute_input": "2023-12-02T12:34:22.389720Z",
     "iopub.status.busy": "2023-12-02T12:34:22.388965Z",
     "iopub.status.idle": "2023-12-02T12:34:23.089781Z",
     "shell.execute_reply": "2023-12-02T12:34:23.088591Z"
    },
    "papermill": {
     "duration": 0.725582,
     "end_time": "2023-12-02T12:34:23.092379",
     "exception": false,
     "start_time": "2023-12-02T12:34:22.366797",
     "status": "completed"
    },
    "tags": []
   },
   "outputs": [
    {
     "data": {
      "image/png": "[encoded data removed]",
      "text/plain": [
       "<Figure size 640x480 with 2 Axes>"
      ]
     },
     "metadata": {},
     "output_type": "display_data"
    }
   ],
   "source": [
    "ax = sns.heatmap(df, vmin=0, vmax=0)\n",
    "plt.show()"
   ]
  },
  {
   "cell_type": "markdown",
   "id": "305e8670",
   "metadata": {
    "papermill": {
     "duration": 0.020325,
     "end_time": "2023-12-02T12:34:23.133778",
     "exception": false,
     "start_time": "2023-12-02T12:34:23.113453",
     "status": "completed"
    },
    "tags": []
   },
   "source": [
    "# Factors Effecting\n",
    "## fbs, exng, caa"
   ]
  },
  {
   "cell_type": "code",
   "execution_count": 8,
   "id": "e74c1dd0",
   "metadata": {
    "execution": {
     "iopub.execute_input": "2023-12-02T12:34:23.179462Z",
     "iopub.status.busy": "2023-12-02T12:34:23.178349Z",
     "iopub.status.idle": "2023-12-02T12:34:23.193089Z",
     "shell.execute_reply": "2023-12-02T12:34:23.192025Z"
    },
    "papermill": {
     "duration": 0.041207,
     "end_time": "2023-12-02T12:34:23.196048",
     "exception": false,
     "start_time": "2023-12-02T12:34:23.154841",
     "status": "completed"
    },
    "tags": []
   },
   "outputs": [],
   "source": [
    "df_columns = df[['fbs', \"exng\", \"caa\"]]"
   ]
  },
  {
   "cell_type": "code",
   "execution_count": 9,
   "id": "e69e9ec6",
   "metadata": {
    "execution": {
     "iopub.execute_input": "2023-12-02T12:34:23.240527Z",
     "iopub.status.busy": "2023-12-02T12:34:23.239631Z",
     "iopub.status.idle": "2023-12-02T12:34:23.610734Z",
     "shell.execute_reply": "2023-12-02T12:34:23.609493Z"
    },
    "papermill": {
     "duration": 0.396435,
     "end_time": "2023-12-02T12:34:23.613485",
     "exception": false,
     "start_time": "2023-12-02T12:34:23.217050",
     "status": "completed"
    },
    "tags": []
   },
   "outputs": [
    {
     "data": {
      "image/png": "[encoded data removed]",
      "text/plain": [
       "<Figure size 500x500 with 1 Axes>"
      ]
     },
     "metadata": {},
     "output_type": "display_data"
    }
   ],
   "source": [
    "sns.displot(df['fbs'])\n",
    "plt.show()"
   ]
  },
  {
   "cell_type": "code",
   "execution_count": 10,
   "id": "82ba998a",
   "metadata": {
    "execution": {
     "iopub.execute_input": "2023-12-02T12:34:23.657039Z",
     "iopub.status.busy": "2023-12-02T12:34:23.656629Z",
     "iopub.status.idle": "2023-12-02T12:34:24.061213Z",
     "shell.execute_reply": "2023-12-02T12:34:24.060004Z"
    },
    "papermill": {
     "duration": 0.429275,
     "end_time": "2023-12-02T12:34:24.063972",
     "exception": false,
     "start_time": "2023-12-02T12:34:23.634697",
     "status": "completed"
    },
    "tags": []
   },
   "outputs": [
    {
     "data": {
      "text/plain": [
       "[]"
      ]
     },
     "execution_count": 10,
     "metadata": {},
     "output_type": "execute_result"
    },
    {
     "data": {
      "image/png": "[encoded data removed]",
      "text/plain": [
       "<Figure size 500x500 with 1 Axes>"
      ]
     },
     "metadata": {},
     "output_type": "display_data"
    }
   ],
   "source": [
    "sns.displot(df['caa'])\n",
    "plt.plot()"
   ]
  },
  {
   "cell_type": "code",
   "execution_count": 11,
   "id": "1bfa45b3",
   "metadata": {
    "execution": {
     "iopub.execute_input": "2023-12-02T12:34:24.110398Z",
     "iopub.status.busy": "2023-12-02T12:34:24.109936Z",
     "iopub.status.idle": "2023-12-02T12:34:24.131336Z",
     "shell.execute_reply": "2023-12-02T12:34:24.130173Z"
    },
    "papermill": {
     "duration": 0.048019,
     "end_time": "2023-12-02T12:34:24.134982",
     "exception": false,
     "start_time": "2023-12-02T12:34:24.086963",
     "status": "completed"
    },
    "tags": []
   },
   "outputs": [
    {
     "name": "stdout",
     "output_type": "stream",
     "text": [
      "<class 'pandas.core.frame.DataFrame'>\n",
      "RangeIndex: 303 entries, 0 to 302\n",
      "Data columns (total 14 columns):\n",
      " #   Column    Non-Null Count  Dtype  \n",
      "---  ------    --------------  -----  \n",
      " 0   age       303 non-null    int64  \n",
      " 1   sex       303 non-null    int64  \n",
      " 2   cp        303 non-null    int64  \n",
      " 3   trtbps    303 non-null    int64  \n",
      " 4   chol      303 non-null    int64  \n",
      " 5   fbs       303 non-null    int64  \n",
      " 6   restecg   303 non-null    int64  \n",
      " 7   thalachh  303 non-null    int64  \n",
      " 8   exng      303 non-null    int64  \n",
      " 9   oldpeak   303 non-null    float64\n",
      " 10  slp       303 non-null    int64  \n",
      " 11  caa       303 non-null    int64  \n",
      " 12  thall     303 non-null    int64  \n",
      " 13  output    303 non-null    int64  \n",
      "dtypes: float64(1), int64(13)\n",
      "memory usage: 33.3 KB\n"
     ]
    }
   ],
   "source": [
    "df.info()"
   ]
  },
  {
   "cell_type": "code",
   "execution_count": 12,
   "id": "a67d897e",
   "metadata": {
    "execution": {
     "iopub.execute_input": "2023-12-02T12:34:24.314807Z",
     "iopub.status.busy": "2023-12-02T12:34:24.314336Z",
     "iopub.status.idle": "2023-12-02T12:34:24.880677Z",
     "shell.execute_reply": "2023-12-02T12:34:24.878729Z"
    },
    "papermill": {
     "duration": 0.597218,
     "end_time": "2023-12-02T12:34:24.886030",
     "exception": false,
     "start_time": "2023-12-02T12:34:24.288812",
     "status": "completed"
    },
    "tags": []
   },
   "outputs": [
    {
     "data": {
      "text/plain": [
       "<seaborn.axisgrid.FacetGrid at 0x1df0fb24c10>"
      ]
     },
     "execution_count": 12,
     "metadata": {},
     "output_type": "execute_result"
    },
    {
     "data": {
      "image/png": "[encoded data removed]",
      "text/plain": [
       "<Figure size 500x500 with 1 Axes>"
      ]
     },
     "metadata": {},
     "output_type": "display_data"
    }
   ],
   "source": [
    "sns.displot(df['output'])"
   ]
  },
  {
   "cell_type": "code",
   "execution_count": 13,
   "id": "94cc28b5",
   "metadata": {
    "execution": {
     "iopub.execute_input": "2023-12-02T12:34:24.934958Z",
     "iopub.status.busy": "2023-12-02T12:34:24.934500Z",
     "iopub.status.idle": "2023-12-02T12:34:25.435382Z",
     "shell.execute_reply": "2023-12-02T12:34:25.434207Z"
    },
    "papermill": {
     "duration": 0.528294,
     "end_time": "2023-12-02T12:34:25.437923",
     "exception": false,
     "start_time": "2023-12-02T12:34:24.909629",
     "status": "completed"
    },
    "tags": []
   },
   "outputs": [
    {
     "data": {
      "text/plain": [
       "[]"
      ]
     },
     "execution_count": 13,
     "metadata": {},
     "output_type": "execute_result"
    },
    {
     "data": {
      "image/png": "[encoded data removed]",
      "text/plain": [
       "<Figure size 500x500 with 1 Axes>"
      ]
     },
     "metadata": {},
     "output_type": "display_data"
    }
   ],
   "source": [
    "sns.displot(df['exng'])\n",
    "plt.plot()"
   ]
  },
  {
   "cell_type": "code",
   "execution_count": 14,
   "id": "ced815ec",
   "metadata": {
    "execution": {
     "iopub.execute_input": "2023-12-02T12:34:25.484078Z",
     "iopub.status.busy": "2023-12-02T12:34:25.483657Z",
     "iopub.status.idle": "2023-12-02T12:34:29.233934Z",
     "shell.execute_reply": "2023-12-02T12:34:29.232704Z"
    },
    "papermill": {
     "duration": 3.776159,
     "end_time": "2023-12-02T12:34:29.236363",
     "exception": false,
     "start_time": "2023-12-02T12:34:25.460204",
     "status": "completed"
    },
    "tags": []
   },
   "outputs": [
    {
     "data": {
      "text/plain": [
       "[]"
      ]
     },
     "execution_count": 14,
     "metadata": {},
     "output_type": "execute_result"
    },
    {
     "data": {
      "image/png": "[encoded data removed]",
      "text/plain": [
       "<Figure size 610.5x500 with 1 Axes>"
      ]
     },
     "metadata": {},
     "output_type": "display_data"
    }
   ],
   "source": [
    "sns.displot(df)\n",
    "plt.plot()"
   ]
  },
  {
   "cell_type": "markdown",
   "id": "206ed70b",
   "metadata": {
    "papermill": {
     "duration": 0.023419,
     "end_time": "2023-12-02T12:34:29.282827",
     "exception": false,
     "start_time": "2023-12-02T12:34:29.259408",
     "status": "completed"
    },
    "tags": []
   },
   "source": [
    "# using k nearest neighbours"
   ]
  },
  {
   "cell_type": "code",
   "execution_count": 15,
   "id": "02ce9e2c",
   "metadata": {
    "execution": {
     "iopub.execute_input": "2023-12-02T12:34:29.332016Z",
     "iopub.status.busy": "2023-12-02T12:34:29.331224Z",
     "iopub.status.idle": "2023-12-02T12:34:29.628278Z",
     "shell.execute_reply": "2023-12-02T12:34:29.627048Z"
    },
    "papermill": {
     "duration": 0.325007,
     "end_time": "2023-12-02T12:34:29.631343",
     "exception": false,
     "start_time": "2023-12-02T12:34:29.306336",
     "status": "completed"
    },
    "tags": []
   },
   "outputs": [],
   "source": [
    "from sklearn.impute import SimpleImputer"
   ]
  },
  {
   "cell_type": "code",
   "execution_count": 16,
   "id": "aa5cd7dc",
   "metadata": {
    "execution": {
     "iopub.execute_input": "2023-12-02T12:34:29.683097Z",
     "iopub.status.busy": "2023-12-02T12:34:29.682671Z",
     "iopub.status.idle": "2023-12-02T12:34:29.688371Z",
     "shell.execute_reply": "2023-12-02T12:34:29.686983Z"
    },
    "papermill": {
     "duration": 0.036013,
     "end_time": "2023-12-02T12:34:29.691177",
     "exception": false,
     "start_time": "2023-12-02T12:34:29.655164",
     "status": "completed"
    },
    "tags": []
   },
   "outputs": [],
   "source": [
    "imputer = SimpleImputer()"
   ]
  },
  {
   "cell_type": "markdown",
   "id": "8baa44d8",
   "metadata": {
    "papermill": {
     "duration": 0.023789,
     "end_time": "2023-12-02T12:34:29.740659",
     "exception": false,
     "start_time": "2023-12-02T12:34:29.716870",
     "status": "completed"
    },
    "tags": []
   },
   "source": []
  },
  {
   "cell_type": "code",
   "execution_count": 17,
   "id": "f7750350",
   "metadata": {
    "execution": {
     "iopub.execute_input": "2023-12-02T12:34:29.791339Z",
     "iopub.status.busy": "2023-12-02T12:34:29.790816Z",
     "iopub.status.idle": "2023-12-02T12:34:29.804098Z",
     "shell.execute_reply": "2023-12-02T12:34:29.803052Z"
    },
    "papermill": {
     "duration": 0.041535,
     "end_time": "2023-12-02T12:34:29.806602",
     "exception": false,
     "start_time": "2023-12-02T12:34:29.765067",
     "status": "completed"
    },
    "tags": []
   },
   "outputs": [],
   "source": [
    "df[['fbs','exng','caa']] = imputer.fit_transform(df[['fbs','exng','caa']])"
   ]
  },
  {
   "cell_type": "code",
   "execution_count": 18,
   "id": "38363230",
   "metadata": {
    "execution": {
     "iopub.execute_input": "2023-12-02T12:34:29.855975Z",
     "iopub.status.busy": "2023-12-02T12:34:29.855175Z",
     "iopub.status.idle": "2023-12-02T12:34:29.879089Z",
     "shell.execute_reply": "2023-12-02T12:34:29.878252Z"
    },
    "papermill": {
     "duration": 0.050608,
     "end_time": "2023-12-02T12:34:29.881194",
     "exception": false,
     "start_time": "2023-12-02T12:34:29.830586",
     "status": "completed"
    },
    "tags": []
   },
   "outputs": [
    {
     "data": {
      "text/html": [
       "<div>\n",
       "<style scoped>\n",
       "    .dataframe tbody tr th:only-of-type {\n",
       "        vertical-align: middle;\n",
       "    }\n",
       "\n",
       "    .dataframe tbody tr th {\n",
       "        vertical-align: top;\n",
       "    }\n",
       "\n",
       "    .dataframe thead th {\n",
       "        text-align: right;\n",
       "    }\n",
       "</style>\n",
       "<table border=\"1\" class=\"dataframe\">\n",
       "  <thead>\n",
       "    <tr style=\"text-align: right;\">\n",
       "      <th></th>\n",
       "      <th>age</th>\n",
       "      <th>sex</th>\n",
       "      <th>cp</th>\n",
       "      <th>trtbps</th>\n",
       "      <th>chol</th>\n",
       "      <th>fbs</th>\n",
       "      <th>restecg</th>\n",
       "      <th>thalachh</th>\n",
       "      <th>exng</th>\n",
       "      <th>oldpeak</th>\n",
       "      <th>slp</th>\n",
       "      <th>caa</th>\n",
       "      <th>thall</th>\n",
       "      <th>output</th>\n",
       "    </tr>\n",
       "  </thead>\n",
       "  <tbody>\n",
       "    <tr>\n",
       "      <th>0</th>\n",
       "      <td>63</td>\n",
       "      <td>1</td>\n",
       "      <td>3</td>\n",
       "      <td>145</td>\n",
       "      <td>233</td>\n",
       "      <td>1.0</td>\n",
       "      <td>0</td>\n",
       "      <td>150</td>\n",
       "      <td>0.0</td>\n",
       "      <td>2.3</td>\n",
       "      <td>0</td>\n",
       "      <td>0.0</td>\n",
       "      <td>1</td>\n",
       "      <td>1</td>\n",
       "    </tr>\n",
       "    <tr>\n",
       "      <th>1</th>\n",
       "      <td>37</td>\n",
       "      <td>1</td>\n",
       "      <td>2</td>\n",
       "      <td>130</td>\n",
       "      <td>250</td>\n",
       "      <td>0.0</td>\n",
       "      <td>1</td>\n",
       "      <td>187</td>\n",
       "      <td>0.0</td>\n",
       "      <td>3.5</td>\n",
       "      <td>0</td>\n",
       "      <td>0.0</td>\n",
       "      <td>2</td>\n",
       "      <td>1</td>\n",
       "    </tr>\n",
       "    <tr>\n",
       "      <th>2</th>\n",
       "      <td>41</td>\n",
       "      <td>0</td>\n",
       "      <td>1</td>\n",
       "      <td>130</td>\n",
       "      <td>204</td>\n",
       "      <td>0.0</td>\n",
       "      <td>0</td>\n",
       "      <td>172</td>\n",
       "      <td>0.0</td>\n",
       "      <td>1.4</td>\n",
       "      <td>2</td>\n",
       "      <td>0.0</td>\n",
       "      <td>2</td>\n",
       "      <td>1</td>\n",
       "    </tr>\n",
       "    <tr>\n",
       "      <th>3</th>\n",
       "      <td>56</td>\n",
       "      <td>1</td>\n",
       "      <td>1</td>\n",
       "      <td>120</td>\n",
       "      <td>236</td>\n",
       "      <td>0.0</td>\n",
       "      <td>1</td>\n",
       "      <td>178</td>\n",
       "      <td>0.0</td>\n",
       "      <td>0.8</td>\n",
       "      <td>2</td>\n",
       "      <td>0.0</td>\n",
       "      <td>2</td>\n",
       "      <td>1</td>\n",
       "    </tr>\n",
       "    <tr>\n",
       "      <th>4</th>\n",
       "      <td>57</td>\n",
       "      <td>0</td>\n",
       "      <td>0</td>\n",
       "      <td>120</td>\n",
       "      <td>354</td>\n",
       "      <td>0.0</td>\n",
       "      <td>1</td>\n",
       "      <td>163</td>\n",
       "      <td>1.0</td>\n",
       "      <td>0.6</td>\n",
       "      <td>2</td>\n",
       "      <td>0.0</td>\n",
       "      <td>2</td>\n",
       "      <td>1</td>\n",
       "    </tr>\n",
       "    <tr>\n",
       "      <th>...</th>\n",
       "      <td>...</td>\n",
       "      <td>...</td>\n",
       "      <td>...</td>\n",
       "      <td>...</td>\n",
       "      <td>...</td>\n",
       "      <td>...</td>\n",
       "      <td>...</td>\n",
       "      <td>...</td>\n",
       "      <td>...</td>\n",
       "      <td>...</td>\n",
       "      <td>...</td>\n",
       "      <td>...</td>\n",
       "      <td>...</td>\n",
       "      <td>...</td>\n",
       "    </tr>\n",
       "    <tr>\n",
       "      <th>298</th>\n",
       "      <td>57</td>\n",
       "      <td>0</td>\n",
       "      <td>0</td>\n",
       "      <td>140</td>\n",
       "      <td>241</td>\n",
       "      <td>0.0</td>\n",
       "      <td>1</td>\n",
       "      <td>123</td>\n",
       "      <td>1.0</td>\n",
       "      <td>0.2</td>\n",
       "      <td>1</td>\n",
       "      <td>0.0</td>\n",
       "      <td>3</td>\n",
       "      <td>0</td>\n",
       "    </tr>\n",
       "    <tr>\n",
       "      <th>299</th>\n",
       "      <td>45</td>\n",
       "      <td>1</td>\n",
       "      <td>3</td>\n",
       "      <td>110</td>\n",
       "      <td>264</td>\n",
       "      <td>0.0</td>\n",
       "      <td>1</td>\n",
       "      <td>132</td>\n",
       "      <td>0.0</td>\n",
       "      <td>1.2</td>\n",
       "      <td>1</td>\n",
       "      <td>0.0</td>\n",
       "      <td>3</td>\n",
       "      <td>0</td>\n",
       "    </tr>\n",
       "    <tr>\n",
       "      <th>300</th>\n",
       "      <td>68</td>\n",
       "      <td>1</td>\n",
       "      <td>0</td>\n",
       "      <td>144</td>\n",
       "      <td>193</td>\n",
       "      <td>1.0</td>\n",
       "      <td>1</td>\n",
       "      <td>141</td>\n",
       "      <td>0.0</td>\n",
       "      <td>3.4</td>\n",
       "      <td>1</td>\n",
       "      <td>2.0</td>\n",
       "      <td>3</td>\n",
       "      <td>0</td>\n",
       "    </tr>\n",
       "    <tr>\n",
       "      <th>301</th>\n",
       "      <td>57</td>\n",
       "      <td>1</td>\n",
       "      <td>0</td>\n",
       "      <td>130</td>\n",
       "      <td>131</td>\n",
       "      <td>0.0</td>\n",
       "      <td>1</td>\n",
       "      <td>115</td>\n",
       "      <td>1.0</td>\n",
       "      <td>1.2</td>\n",
       "      <td>1</td>\n",
       "      <td>1.0</td>\n",
       "      <td>3</td>\n",
       "      <td>0</td>\n",
       "    </tr>\n",
       "    <tr>\n",
       "      <th>302</th>\n",
       "      <td>57</td>\n",
       "      <td>0</td>\n",
       "      <td>1</td>\n",
       "      <td>130</td>\n",
       "      <td>236</td>\n",
       "      <td>0.0</td>\n",
       "      <td>0</td>\n",
       "      <td>174</td>\n",
       "      <td>0.0</td>\n",
       "      <td>0.0</td>\n",
       "      <td>1</td>\n",
       "      <td>1.0</td>\n",
       "      <td>2</td>\n",
       "      <td>0</td>\n",
       "    </tr>\n",
       "  </tbody>\n",
       "</table>\n",
       "<p>303 rows × 14 columns</p>\n",
       "</div>"
      ],
      "text/plain": [
       "     age  sex  cp  trtbps  chol  fbs  restecg  thalachh  exng  oldpeak  slp  \\\n",
       "0     63    1   3     145   233  1.0        0       150   0.0      2.3    0   \n",
       "1     37    1   2     130   250  0.0        1       187   0.0      3.5    0   \n",
       "2     41    0   1     130   204  0.0        0       172   0.0      1.4    2   \n",
       "3     56    1   1     120   236  0.0        1       178   0.0      0.8    2   \n",
       "4     57    0   0     120   354  0.0        1       163   1.0      0.6    2   \n",
       "..   ...  ...  ..     ...   ...  ...      ...       ...   ...      ...  ...   \n",
       "298   57    0   0     140   241  0.0        1       123   1.0      0.2    1   \n",
       "299   45    1   3     110   264  0.0        1       132   0.0      1.2    1   \n",
       "300   68    1   0     144   193  1.0        1       141   0.0      3.4    1   \n",
       "301   57    1   0     130   131  0.0        1       115   1.0      1.2    1   \n",
       "302   57    0   1     130   236  0.0        0       174   0.0      0.0    1   \n",
       "\n",
       "     caa  thall  output  \n",
       "0    0.0      1       1  \n",
       "1    0.0      2       1  \n",
       "2    0.0      2       1  \n",
       "3    0.0      2       1  \n",
       "4    0.0      2       1  \n",
       "..   ...    ...     ...  \n",
       "298  0.0      3       0  \n",
       "299  0.0      3       0  \n",
       "300  2.0      3       0  \n",
       "301  1.0      3       0  \n",
       "302  1.0      2       0  \n",
       "\n",
       "[303 rows x 14 columns]"
      ]
     },
     "execution_count": 18,
     "metadata": {},
     "output_type": "execute_result"
    }
   ],
   "source": [
    "df"
   ]
  },
  {
   "cell_type": "code",
   "execution_count": 19,
   "id": "892f030d",
   "metadata": {
    "execution": {
     "iopub.execute_input": "2023-12-02T12:34:29.930966Z",
     "iopub.status.busy": "2023-12-02T12:34:29.930561Z",
     "iopub.status.idle": "2023-12-02T12:34:29.937567Z",
     "shell.execute_reply": "2023-12-02T12:34:29.936146Z"
    },
    "papermill": {
     "duration": 0.034709,
     "end_time": "2023-12-02T12:34:29.940195",
     "exception": false,
     "start_time": "2023-12-02T12:34:29.905486",
     "status": "completed"
    },
    "tags": []
   },
   "outputs": [],
   "source": [
    "df = df[['sex','cp','exng','oldpeak','caa', 'output']]"
   ]
  },
  {
   "cell_type": "code",
   "execution_count": 20,
   "id": "501142c9",
   "metadata": {
    "execution": {
     "iopub.execute_input": "2023-12-02T12:34:29.991030Z",
     "iopub.status.busy": "2023-12-02T12:34:29.990223Z",
     "iopub.status.idle": "2023-12-02T12:34:31.479791Z",
     "shell.execute_reply": "2023-12-02T12:34:31.478734Z"
    },
    "papermill": {
     "duration": 1.517923,
     "end_time": "2023-12-02T12:34:31.482675",
     "exception": false,
     "start_time": "2023-12-02T12:34:29.964752",
     "status": "completed"
    },
    "tags": []
   },
   "outputs": [
    {
     "data": {
      "text/plain": [
       "[]"
      ]
     },
     "execution_count": 20,
     "metadata": {},
     "output_type": "execute_result"
    },
    {
     "data": {
      "image/png": "[encoded data removed]",
      "text/plain": [
       "<Figure size 500x500 with 1 Axes>"
      ]
     },
     "metadata": {},
     "output_type": "display_data"
    },
    {
     "data": {
      "image/png": "[encoded data removed]",
      "text/plain": [
       "<Figure size 500x500 with 1 Axes>"
      ]
     },
     "metadata": {},
     "output_type": "display_data"
    },
    {
     "data": {
      "image/png": "[encoded data removed]",
      "text/plain": [
       "<Figure size 500x500 with 1 Axes>"
      ]
     },
     "metadata": {},
     "output_type": "display_data"
    },
    {
     "data": {
      "image/png": "[encoded data removed]",
      "text/plain": [
       "<Figure size 500x500 with 1 Axes>"
      ]
     },
     "metadata": {},
     "output_type": "display_data"
    }
   ],
   "source": [
    "sns.displot(df['sex'])\n",
    "sns.displot(df['cp'])\n",
    "sns.displot(df['oldpeak'])\n",
    "sns.displot(df['caa'])\n",
    "plt.plot()"
   ]
  },
  {
   "cell_type": "code",
   "execution_count": 21,
   "id": "6c2e3c47",
   "metadata": {
    "execution": {
     "iopub.execute_input": "2023-12-02T12:34:31.537029Z",
     "iopub.status.busy": "2023-12-02T12:34:31.536594Z",
     "iopub.status.idle": "2023-12-02T12:34:31.877030Z",
     "shell.execute_reply": "2023-12-02T12:34:31.876058Z"
    },
    "papermill": {
     "duration": 0.370651,
     "end_time": "2023-12-02T12:34:31.879708",
     "exception": false,
     "start_time": "2023-12-02T12:34:31.509057",
     "status": "completed"
    },
    "tags": []
   },
   "outputs": [
    {
     "data": {
      "image/png": "[encoded data removed]",
      "text/plain": [
       "<Figure size 640x480 with 1 Axes>"
      ]
     },
     "metadata": {},
     "output_type": "display_data"
    }
   ],
   "source": [
    "df.plot.scatter(x = 'sex', y= 'oldpeak')\n",
    "plt.show()"
   ]
  },
  {
   "cell_type": "code",
   "execution_count": 22,
   "id": "def118e7",
   "metadata": {
    "execution": {
     "iopub.execute_input": "2023-12-02T12:34:31.935542Z",
     "iopub.status.busy": "2023-12-02T12:34:31.934733Z",
     "iopub.status.idle": "2023-12-02T12:34:32.353574Z",
     "shell.execute_reply": "2023-12-02T12:34:32.352427Z"
    },
    "papermill": {
     "duration": 0.449009,
     "end_time": "2023-12-02T12:34:32.356204",
     "exception": false,
     "start_time": "2023-12-02T12:34:31.907195",
     "status": "completed"
    },
    "tags": []
   },
   "outputs": [
    {
     "data": {
      "image/png": "[encoded data removed]",
      "text/plain": [
       "<Figure size 640x480 with 1 Axes>"
      ]
     },
     "metadata": {},
     "output_type": "display_data"
    }
   ],
   "source": [
    "df.plot.scatter(x = 'sex', y= 'caa')\n",
    "plt.show()"
   ]
  },
  {
   "cell_type": "code",
   "execution_count": 23,
   "id": "35b52349",
   "metadata": {
    "execution": {
     "iopub.execute_input": "2023-12-02T12:34:32.413070Z",
     "iopub.status.busy": "2023-12-02T12:34:32.412603Z",
     "iopub.status.idle": "2023-12-02T12:34:32.420137Z",
     "shell.execute_reply": "2023-12-02T12:34:32.418542Z"
    },
    "papermill": {
     "duration": 0.039869,
     "end_time": "2023-12-02T12:34:32.423053",
     "exception": false,
     "start_time": "2023-12-02T12:34:32.383184",
     "status": "completed"
    },
    "tags": []
   },
   "outputs": [],
   "source": [
    "df_standardization = df[['sex', 'cp', 'exng', 'oldpeak', 'caa']]"
   ]
  },
  {
   "cell_type": "code",
   "execution_count": 24,
   "id": "7154155d",
   "metadata": {
    "execution": {
     "iopub.execute_input": "2023-12-02T12:34:32.480561Z",
     "iopub.status.busy": "2023-12-02T12:34:32.479197Z",
     "iopub.status.idle": "2023-12-02T12:34:32.485502Z",
     "shell.execute_reply": "2023-12-02T12:34:32.484222Z"
    },
    "papermill": {
     "duration": 0.037344,
     "end_time": "2023-12-02T12:34:32.488055",
     "exception": false,
     "start_time": "2023-12-02T12:34:32.450711",
     "status": "completed"
    },
    "tags": []
   },
   "outputs": [],
   "source": [
    "from sklearn.preprocessing import StandardScaler"
   ]
  },
  {
   "cell_type": "code",
   "execution_count": 25,
   "id": "d137080f",
   "metadata": {
    "execution": {
     "iopub.execute_input": "2023-12-02T12:34:32.544629Z",
     "iopub.status.busy": "2023-12-02T12:34:32.543812Z",
     "iopub.status.idle": "2023-12-02T12:34:32.548874Z",
     "shell.execute_reply": "2023-12-02T12:34:32.547774Z"
    },
    "papermill": {
     "duration": 0.03619,
     "end_time": "2023-12-02T12:34:32.551647",
     "exception": false,
     "start_time": "2023-12-02T12:34:32.515457",
     "status": "completed"
    },
    "tags": []
   },
   "outputs": [],
   "source": [
    "X = df_standardization"
   ]
  },
  {
   "cell_type": "code",
   "execution_count": 26,
   "id": "e30bef0c",
   "metadata": {
    "execution": {
     "iopub.execute_input": "2023-12-02T12:34:32.608201Z",
     "iopub.status.busy": "2023-12-02T12:34:32.607436Z",
     "iopub.status.idle": "2023-12-02T12:34:32.620474Z",
     "shell.execute_reply": "2023-12-02T12:34:32.618791Z"
    },
    "papermill": {
     "duration": 0.044063,
     "end_time": "2023-12-02T12:34:32.622997",
     "exception": false,
     "start_time": "2023-12-02T12:34:32.578934",
     "status": "completed"
    },
    "tags": []
   },
   "outputs": [
    {
     "name": "stdout",
     "output_type": "stream",
     "text": [
      "<class 'pandas.core.frame.DataFrame'>\n",
      "RangeIndex: 303 entries, 0 to 302\n",
      "Data columns (total 5 columns):\n",
      " #   Column   Non-Null Count  Dtype  \n",
      "---  ------   --------------  -----  \n",
      " 0   sex      303 non-null    int64  \n",
      " 1   cp       303 non-null    int64  \n",
      " 2   exng     303 non-null    float64\n",
      " 3   oldpeak  303 non-null    float64\n",
      " 4   caa      303 non-null    float64\n",
      "dtypes: float64(3), int64(2)\n",
      "memory usage: 12.0 KB\n"
     ]
    }
   ],
   "source": [
    "X.info()"
   ]
  },
  {
   "cell_type": "code",
   "execution_count": 27,
   "id": "50f4fe34",
   "metadata": {
    "execution": {
     "iopub.execute_input": "2023-12-02T12:34:32.677511Z",
     "iopub.status.busy": "2023-12-02T12:34:32.677076Z",
     "iopub.status.idle": "2023-12-02T12:34:32.687180Z",
     "shell.execute_reply": "2023-12-02T12:34:32.685994Z"
    },
    "papermill": {
     "duration": 0.040295,
     "end_time": "2023-12-02T12:34:32.689598",
     "exception": false,
     "start_time": "2023-12-02T12:34:32.649303",
     "status": "completed"
    },
    "tags": []
   },
   "outputs": [],
   "source": [
    "scaler = StandardScaler()\n",
    "Scaled_X = scaler.fit_transform(X)"
   ]
  },
  {
   "cell_type": "code",
   "execution_count": 28,
   "id": "ca685aa3",
   "metadata": {
    "execution": {
     "iopub.execute_input": "2023-12-02T12:34:32.746440Z",
     "iopub.status.busy": "2023-12-02T12:34:32.746018Z",
     "iopub.status.idle": "2023-12-02T12:34:32.751049Z",
     "shell.execute_reply": "2023-12-02T12:34:32.750055Z"
    },
    "papermill": {
     "duration": 0.03608,
     "end_time": "2023-12-02T12:34:32.753152",
     "exception": false,
     "start_time": "2023-12-02T12:34:32.717072",
     "status": "completed"
    },
    "tags": []
   },
   "outputs": [],
   "source": [
    "y = df[\"output\"]"
   ]
  },
  {
   "cell_type": "code",
   "execution_count": 29,
   "id": "fc8881d5",
   "metadata": {
    "execution": {
     "iopub.execute_input": "2023-12-02T12:34:32.876747Z",
     "iopub.status.busy": "2023-12-02T12:34:32.876290Z",
     "iopub.status.idle": "2023-12-02T12:34:32.881781Z",
     "shell.execute_reply": "2023-12-02T12:34:32.880496Z"
    },
    "papermill": {
     "duration": 0.035753,
     "end_time": "2023-12-02T12:34:32.884294",
     "exception": false,
     "start_time": "2023-12-02T12:34:32.848541",
     "status": "completed"
    },
    "tags": []
   },
   "outputs": [],
   "source": [
    "from sklearn.model_selection import train_test_split"
   ]
  },
  {
   "cell_type": "code",
   "execution_count": 30,
   "id": "744b27bd",
   "metadata": {
    "execution": {
     "iopub.execute_input": "2023-12-02T12:34:32.939339Z",
     "iopub.status.busy": "2023-12-02T12:34:32.938882Z",
     "iopub.status.idle": "2023-12-02T12:34:32.945719Z",
     "shell.execute_reply": "2023-12-02T12:34:32.944810Z"
    },
    "papermill": {
     "duration": 0.037415,
     "end_time": "2023-12-02T12:34:32.947978",
     "exception": false,
     "start_time": "2023-12-02T12:34:32.910563",
     "status": "completed"
    },
    "tags": []
   },
   "outputs": [],
   "source": [
    "X_train, X_test, y_train, y_test =train_test_split(X,y, test_size = .3, random_state = 0)"
   ]
  },
  {
   "cell_type": "code",
   "execution_count": 31,
   "id": "eafce4a5",
   "metadata": {
    "execution": {
     "iopub.execute_input": "2023-12-02T12:34:33.003478Z",
     "iopub.status.busy": "2023-12-02T12:34:33.002674Z",
     "iopub.status.idle": "2023-12-02T12:34:33.016337Z",
     "shell.execute_reply": "2023-12-02T12:34:33.015165Z"
    },
    "papermill": {
     "duration": 0.045453,
     "end_time": "2023-12-02T12:34:33.019522",
     "exception": false,
     "start_time": "2023-12-02T12:34:32.974069",
     "status": "completed"
    },
    "tags": []
   },
   "outputs": [
    {
     "data": {
      "text/plain": [
       "(     sex  cp  exng  oldpeak  caa\n",
       " 137    1   1   0.0      0.0  0.0\n",
       " 106    1   3   0.0      0.1  1.0\n",
       " 284    1   0   1.0      1.9  1.0\n",
       " 44     1   2   0.0      0.0  0.0\n",
       " 139    1   0   1.0      0.2  1.0\n",
       " ..   ...  ..   ...      ...  ...\n",
       " 251    1   0   1.0      0.1  4.0\n",
       " 192    1   0   0.0      1.4  1.0\n",
       " 117    1   3   0.0      1.9  0.0\n",
       " 47     1   2   0.0      0.0  0.0\n",
       " 172    1   1   0.0      1.8  0.0\n",
       " \n",
       " [212 rows x 5 columns],\n",
       " 137    1\n",
       " 106    1\n",
       " 284    0\n",
       " 44     1\n",
       " 139    1\n",
       "       ..\n",
       " 251    0\n",
       " 192    0\n",
       " 117    1\n",
       " 47     1\n",
       " 172    0\n",
       " Name: output, Length: 212, dtype: int64)"
      ]
     },
     "execution_count": 31,
     "metadata": {},
     "output_type": "execute_result"
    }
   ],
   "source": [
    "X_train, y_train"
   ]
  },
  {
   "cell_type": "code",
   "execution_count": 32,
   "id": "212fbfc8",
   "metadata": {
    "execution": {
     "iopub.execute_input": "2023-12-02T12:34:33.075409Z",
     "iopub.status.busy": "2023-12-02T12:34:33.074596Z",
     "iopub.status.idle": "2023-12-02T12:34:33.088214Z",
     "shell.execute_reply": "2023-12-02T12:34:33.087088Z"
    },
    "papermill": {
     "duration": 0.044069,
     "end_time": "2023-12-02T12:34:33.090786",
     "exception": false,
     "start_time": "2023-12-02T12:34:33.046717",
     "status": "completed"
    },
    "tags": []
   },
   "outputs": [
    {
     "data": {
      "text/plain": [
       "(     sex  cp  exng  oldpeak  caa\n",
       " 225    1   0   1.0      2.6  0.0\n",
       " 152    1   3   0.0      0.6  0.0\n",
       " 228    1   3   0.0      0.2  0.0\n",
       " 201    1   0   1.0      2.8  1.0\n",
       " 52     1   2   0.0      1.8  3.0\n",
       " ..   ...  ..   ...      ...  ...\n",
       " 253    1   0   1.0      0.9  2.0\n",
       " 293    1   2   0.0      0.8  0.0\n",
       " 76     1   2   0.0      2.4  0.0\n",
       " 272    1   0   0.0      1.0  0.0\n",
       " 238    1   0   1.0      0.0  3.0\n",
       " \n",
       " [91 rows x 5 columns],\n",
       " 225    0\n",
       " 152    1\n",
       " 228    0\n",
       " 201    0\n",
       " 52     1\n",
       "       ..\n",
       " 253    0\n",
       " 293    0\n",
       " 76     1\n",
       " 272    0\n",
       " 238    0\n",
       " Name: output, Length: 91, dtype: int64)"
      ]
     },
     "execution_count": 32,
     "metadata": {},
     "output_type": "execute_result"
    }
   ],
   "source": [
    "X_test, y_test"
   ]
  },
  {
   "cell_type": "code",
   "execution_count": 33,
   "id": "6cf7243a",
   "metadata": {
    "execution": {
     "iopub.execute_input": "2023-12-02T12:34:33.148756Z",
     "iopub.status.busy": "2023-12-02T12:34:33.148310Z",
     "iopub.status.idle": "2023-12-02T12:34:33.153544Z",
     "shell.execute_reply": "2023-12-02T12:34:33.152282Z"
    },
    "papermill": {
     "duration": 0.037267,
     "end_time": "2023-12-02T12:34:33.155712",
     "exception": false,
     "start_time": "2023-12-02T12:34:33.118445",
     "status": "completed"
    },
    "tags": []
   },
   "outputs": [],
   "source": [
    "from sklearn.linear_model import LogisticRegression"
   ]
  },
  {
   "cell_type": "code",
   "execution_count": 34,
   "id": "1771d0f1",
   "metadata": {
    "execution": {
     "iopub.execute_input": "2023-12-02T12:34:33.210921Z",
     "iopub.status.busy": "2023-12-02T12:34:33.210220Z",
     "iopub.status.idle": "2023-12-02T12:34:33.214409Z",
     "shell.execute_reply": "2023-12-02T12:34:33.213589Z"
    },
    "papermill": {
     "duration": 0.03415,
     "end_time": "2023-12-02T12:34:33.216543",
     "exception": false,
     "start_time": "2023-12-02T12:34:33.182393",
     "status": "completed"
    },
    "tags": []
   },
   "outputs": [],
   "source": [
    "model = LogisticRegression()"
   ]
  },
  {
   "cell_type": "code",
   "execution_count": 35,
   "id": "1015d910",
   "metadata": {
    "execution": {
     "iopub.execute_input": "2023-12-02T12:34:33.272933Z",
     "iopub.status.busy": "2023-12-02T12:34:33.272215Z",
     "iopub.status.idle": "2023-12-02T12:34:33.294163Z",
     "shell.execute_reply": "2023-12-02T12:34:33.292974Z"
    },
    "papermill": {
     "duration": 0.0532,
     "end_time": "2023-12-02T12:34:33.296967",
     "exception": false,
     "start_time": "2023-12-02T12:34:33.243767",
     "status": "completed"
    },
    "tags": []
   },
   "outputs": [
    {
     "data": {
      "text/html": [
       "<style>#sk-container-id-1 {color: black;}#sk-container-id-1 pre{padding: 0;}#sk-container-id-1 div.sk-toggleable {background-color: white;}#sk-container-id-1 label.sk-toggleable__label {cursor: pointer;display: block;width: 100%;margin-bottom: 0;padding: 0.3em;box-sizing: border-box;text-align: center;}#sk-container-id-1 label.sk-toggleable__label-arrow:before {content: \"▸\";float: left;margin-right: 0.25em;color: #696969;}#sk-container-id-1 label.sk-toggleable__label-arrow:hover:before {color: black;}#sk-container-id-1 div.sk-estimator:hover label.sk-toggleable__label-arrow:before {color: black;}#sk-container-id-1 div.sk-toggleable__content {max-height: 0;max-width: 0;overflow: hidden;text-align: left;background-color: #f0f8ff;}#sk-container-id-1 div.sk-toggleable__content pre {margin: 0.2em;color: black;border-radius: 0.25em;background-color: #f0f8ff;}#sk-container-id-1 input.sk-toggleable__control:checked~div.sk-toggleable__content {max-height: 200px;max-width: 100%;overflow: auto;}#sk-container-id-1 input.sk-toggleable__control:checked~label.sk-toggleable__label-arrow:before {content: \"▾\";}#sk-container-id-1 div.sk-estimator input.sk-toggleable__control:checked~label.sk-toggleable__label {background-color: #d4ebff;}#sk-container-id-1 div.sk-label input.sk-toggleable__control:checked~label.sk-toggleable__label {background-color: #d4ebff;}#sk-container-id-1 input.sk-hidden--visually {border: 0;clip: rect(1px 1px 1px 1px);clip: rect(1px, 1px, 1px, 1px);height: 1px;margin: -1px;overflow: hidden;padding: 0;position: absolute;width: 1px;}#sk-container-id-1 div.sk-estimator {font-family: monospace;background-color: #f0f8ff;border: 1px dotted black;border-radius: 0.25em;box-sizing: border-box;margin-bottom: 0.5em;}#sk-container-id-1 div.sk-estimator:hover {background-color: #d4ebff;}#sk-container-id-1 div.sk-parallel-item::after {content: \"\";width: 100%;border-bottom: 1px solid gray;flex-grow: 1;}#sk-container-id-1 div.sk-label:hover label.sk-toggleable__label {background-color: #d4ebff;}#sk-container-id-1 div.sk-serial::before {content: \"\";position: absolute;border-left: 1px solid gray;box-sizing: border-box;top: 0;bottom: 0;left: 50%;z-index: 0;}#sk-container-id-1 div.sk-serial {display: flex;flex-direction: column;align-items: center;background-color: white;padding-right: 0.2em;padding-left: 0.2em;position: relative;}#sk-container-id-1 div.sk-item {position: relative;z-index: 1;}#sk-container-id-1 div.sk-parallel {display: flex;align-items: stretch;justify-content: center;background-color: white;position: relative;}#sk-container-id-1 div.sk-item::before, #sk-container-id-1 div.sk-parallel-item::before {content: \"\";position: absolute;border-left: 1px solid gray;box-sizing: border-box;top: 0;bottom: 0;left: 50%;z-index: -1;}#sk-container-id-1 div.sk-parallel-item {display: flex;flex-direction: column;z-index: 1;position: relative;background-color: white;}#sk-container-id-1 div.sk-parallel-item:first-child::after {align-self: flex-end;width: 50%;}#sk-container-id-1 div.sk-parallel-item:last-child::after {align-self: flex-start;width: 50%;}#sk-container-id-1 div.sk-parallel-item:only-child::after {width: 0;}#sk-container-id-1 div.sk-dashed-wrapped {border: 1px dashed gray;margin: 0 0.4em 0.5em 0.4em;box-sizing: border-box;padding-bottom: 0.4em;background-color: white;}#sk-container-id-1 div.sk-label label {font-family: monospace;font-weight: bold;display: inline-block;line-height: 1.2em;}#sk-container-id-1 div.sk-label-container {text-align: center;}#sk-container-id-1 div.sk-container {/* jupyter's `normalize.less` sets `[hidden] { display: none; }` but bootstrap.min.css set `[hidden] { display: none !important; }` so we also need the `!important` here to be able to override the default hidden behavior on the sphinx rendered scikit-learn.org. See: https://github.com/scikit-learn/scikit-learn/issues/21755 */display: inline-block !important;position: relative;}#sk-container-id-1 div.sk-text-repr-fallback {display: none;}</style><div id=\"sk-container-id-1\" class=\"sk-top-container\"><div class=\"sk-text-repr-fallback\"><pre>LogisticRegression()</pre><b>In a Jupyter environment, please rerun this cell to show the HTML representation or trust the notebook. <br />On GitHub, the HTML representation is unable to render, please try loading this page with nbviewer.org.</b></div><div class=\"sk-container\" hidden><div class=\"sk-item\"><div class=\"sk-estimator sk-toggleable\"><input class=\"sk-toggleable__control sk-hidden--visually\" id=\"sk-estimator-id-1\" type=\"checkbox\" checked><label for=\"sk-estimator-id-1\" class=\"sk-toggleable__label sk-toggleable__label-arrow\">LogisticRegression</label><div class=\"sk-toggleable__content\"><pre>LogisticRegression()</pre></div></div></div></div></div>"
      ],
      "text/plain": [
       "LogisticRegression()"
      ]
     },
     "execution_count": 35,
     "metadata": {},
     "output_type": "execute_result"
    }
   ],
   "source": [
    "model.fit(X_train, y_train)"
   ]
  },
  {
   "cell_type": "code",
   "execution_count": 36,
   "id": "5defe50a",
   "metadata": {
    "execution": {
     "iopub.execute_input": "2023-12-02T12:34:33.353698Z",
     "iopub.status.busy": "2023-12-02T12:34:33.353260Z",
     "iopub.status.idle": "2023-12-02T12:34:33.360580Z",
     "shell.execute_reply": "2023-12-02T12:34:33.359127Z"
    },
    "papermill": {
     "duration": 0.038537,
     "end_time": "2023-12-02T12:34:33.363133",
     "exception": false,
     "start_time": "2023-12-02T12:34:33.324596",
     "status": "completed"
    },
    "tags": []
   },
   "outputs": [],
   "source": [
    "ypred = model.predict(X_test)"
   ]
  },
  {
   "cell_type": "code",
   "execution_count": 37,
   "id": "37f86221",
   "metadata": {
    "execution": {
     "iopub.execute_input": "2023-12-02T12:34:33.422784Z",
     "iopub.status.busy": "2023-12-02T12:34:33.422377Z",
     "iopub.status.idle": "2023-12-02T12:34:33.427118Z",
     "shell.execute_reply": "2023-12-02T12:34:33.425844Z"
    },
    "papermill": {
     "duration": 0.037587,
     "end_time": "2023-12-02T12:34:33.429697",
     "exception": false,
     "start_time": "2023-12-02T12:34:33.392110",
     "status": "completed"
    },
    "tags": []
   },
   "outputs": [],
   "source": [
    "from sklearn.metrics import confusion_matrix "
   ]
  },
  {
   "cell_type": "code",
   "execution_count": 38,
   "id": "fa4221f1",
   "metadata": {
    "execution": {
     "iopub.execute_input": "2023-12-02T12:34:33.487421Z",
     "iopub.status.busy": "2023-12-02T12:34:33.486988Z",
     "iopub.status.idle": "2023-12-02T12:34:33.495760Z",
     "shell.execute_reply": "2023-12-02T12:34:33.494763Z"
    },
    "papermill": {
     "duration": 0.041411,
     "end_time": "2023-12-02T12:34:33.498381",
     "exception": false,
     "start_time": "2023-12-02T12:34:33.456970",
     "status": "completed"
    },
    "tags": []
   },
   "outputs": [
    {
     "data": {
      "text/plain": [
       "array([[30, 14],\n",
       "       [ 7, 40]], dtype=int64)"
      ]
     },
     "execution_count": 38,
     "metadata": {},
     "output_type": "execute_result"
    }
   ],
   "source": [
    "confusion_matrix(y_test, ypred)"
   ]
  },
  {
   "cell_type": "code",
   "execution_count": 39,
   "id": "d2c876e8",
   "metadata": {
    "execution": {
     "iopub.execute_input": "2023-12-02T12:34:33.559679Z",
     "iopub.status.busy": "2023-12-02T12:34:33.558203Z",
     "iopub.status.idle": "2023-12-02T12:34:33.571230Z",
     "shell.execute_reply": "2023-12-02T12:34:33.569211Z"
    },
    "papermill": {
     "duration": 0.047811,
     "end_time": "2023-12-02T12:34:33.574464",
     "exception": false,
     "start_time": "2023-12-02T12:34:33.526653",
     "status": "completed"
    },
    "tags": []
   },
   "outputs": [
    {
     "data": {
      "text/plain": [
       "0.7692307692307693"
      ]
     },
     "execution_count": 39,
     "metadata": {},
     "output_type": "execute_result"
    }
   ],
   "source": [
    "model.score(X_test, y_test)"
   ]
  },
  {
   "cell_type": "markdown",
   "id": "15d533d2",
   "metadata": {
    "papermill": {
     "duration": 0.028022,
     "end_time": "2023-12-02T12:34:33.631376",
     "exception": false,
     "start_time": "2023-12-02T12:34:33.603354",
     "status": "completed"
    },
    "tags": []
   },
   "source": [
    "# Trying Random Forests Regression"
   ]
  },
  {
   "cell_type": "code",
   "execution_count": 40,
   "id": "36565450",
   "metadata": {
    "execution": {
     "iopub.execute_input": "2023-12-02T12:34:33.690472Z",
     "iopub.status.busy": "2023-12-02T12:34:33.689343Z",
     "iopub.status.idle": "2023-12-02T12:34:33.794521Z",
     "shell.execute_reply": "2023-12-02T12:34:33.793400Z"
    },
    "papermill": {
     "duration": 0.137939,
     "end_time": "2023-12-02T12:34:33.797156",
     "exception": false,
     "start_time": "2023-12-02T12:34:33.659217",
     "status": "completed"
    },
    "tags": []
   },
   "outputs": [],
   "source": [
    "from sklearn.ensemble import RandomForestRegressor"
   ]
  },
  {
   "cell_type": "code",
   "execution_count": 41,
   "id": "cbc4bf00",
   "metadata": {
    "execution": {
     "iopub.execute_input": "2023-12-02T12:34:33.855637Z",
     "iopub.status.busy": "2023-12-02T12:34:33.854541Z",
     "iopub.status.idle": "2023-12-02T12:34:41.915482Z",
     "shell.execute_reply": "2023-12-02T12:34:41.914042Z"
    },
    "papermill": {
     "duration": 8.093552,
     "end_time": "2023-12-02T12:34:41.918382",
     "exception": false,
     "start_time": "2023-12-02T12:34:33.824830",
     "status": "completed"
    },
    "tags": []
   },
   "outputs": [
    {
     "name": "stdout",
     "output_type": "stream",
     "text": [
      "trees : 50 ==> score : 34.11041884076105\n",
      "trees : 55 ==> score : 29.53208341925815\n",
      "trees : 60 ==> score : 29.079756996696528\n",
      "trees : 65 ==> score : 31.737999615558042\n",
      "trees : 70 ==> score : 29.652188176778584\n",
      "trees : 75 ==> score : 30.338386407331242\n",
      "trees : 80 ==> score : 30.91570475431181\n",
      "trees : 85 ==> score : 30.255868326725853\n",
      "trees : 90 ==> score : 32.54819190945758\n",
      "trees : 95 ==> score : 33.85646597847497\n",
      "trees : 100 ==> score : 32.045769835356055\n",
      "trees : 105 ==> score : 31.80231980241003\n",
      "trees : 110 ==> score : 31.20926507668087\n",
      "trees : 115 ==> score : 31.40976530855587\n",
      "trees : 120 ==> score : 32.9373422611497\n",
      "trees : 125 ==> score : 31.796328350003467\n",
      "trees : 130 ==> score : 31.683190848584943\n",
      "trees : 135 ==> score : 33.586745585848476\n",
      "trees : 140 ==> score : 31.318060203509134\n",
      "trees : 145 ==> score : 31.14433614025436\n",
      "trees : 150 ==> score : 30.66936743276919\n",
      "trees : 155 ==> score : 30.87747227222669\n",
      "trees : 160 ==> score : 30.554612357710663\n",
      "trees : 165 ==> score : 32.51310985169204\n",
      "trees : 170 ==> score : 32.09946309217844\n",
      "trees : 175 ==> score : 32.745076647450034\n",
      "trees : 180 ==> score : 30.180367644937444\n",
      "trees : 185 ==> score : 31.056306799099197\n",
      "trees : 190 ==> score : 32.45730671774504\n",
      "trees : 195 ==> score : 32.797307298905196\n",
      "trees : 200 ==> score : 30.262006781392582\n"
     ]
    }
   ],
   "source": [
    "model_scores = []\n",
    "for trees in range(50,205,5):\n",
    "    model  = RandomForestRegressor(n_estimators=trees)\n",
    "    model.fit(X_train ,y_train)\n",
    "    score = model.score(X_test, y_test) * 100\n",
    "    model_scores.append(score)\n",
    "    print(f'trees : {trees} ==> score : {score}')"
   ]
  },
  {
   "cell_type": "code",
   "execution_count": 42,
   "id": "70062a84",
   "metadata": {
    "execution": {
     "iopub.execute_input": "2023-12-02T12:34:41.982073Z",
     "iopub.status.busy": "2023-12-02T12:34:41.980849Z",
     "iopub.status.idle": "2023-12-02T12:34:42.187078Z",
     "shell.execute_reply": "2023-12-02T12:34:42.186279Z"
    },
    "papermill": {
     "duration": 0.240816,
     "end_time": "2023-12-02T12:34:42.189310",
     "exception": false,
     "start_time": "2023-12-02T12:34:41.948494",
     "status": "completed"
    },
    "tags": []
   },
   "outputs": [
    {
     "data": {
      "text/html": [
       "<style>#sk-container-id-2 {color: black;}#sk-container-id-2 pre{padding: 0;}#sk-container-id-2 div.sk-toggleable {background-color: white;}#sk-container-id-2 label.sk-toggleable__label {cursor: pointer;display: block;width: 100%;margin-bottom: 0;padding: 0.3em;box-sizing: border-box;text-align: center;}#sk-container-id-2 label.sk-toggleable__label-arrow:before {content: \"▸\";float: left;margin-right: 0.25em;color: #696969;}#sk-container-id-2 label.sk-toggleable__label-arrow:hover:before {color: black;}#sk-container-id-2 div.sk-estimator:hover label.sk-toggleable__label-arrow:before {color: black;}#sk-container-id-2 div.sk-toggleable__content {max-height: 0;max-width: 0;overflow: hidden;text-align: left;background-color: #f0f8ff;}#sk-container-id-2 div.sk-toggleable__content pre {margin: 0.2em;color: black;border-radius: 0.25em;background-color: #f0f8ff;}#sk-container-id-2 input.sk-toggleable__control:checked~div.sk-toggleable__content {max-height: 200px;max-width: 100%;overflow: auto;}#sk-container-id-2 input.sk-toggleable__control:checked~label.sk-toggleable__label-arrow:before {content: \"▾\";}#sk-container-id-2 div.sk-estimator input.sk-toggleable__control:checked~label.sk-toggleable__label {background-color: #d4ebff;}#sk-container-id-2 div.sk-label input.sk-toggleable__control:checked~label.sk-toggleable__label {background-color: #d4ebff;}#sk-container-id-2 input.sk-hidden--visually {border: 0;clip: rect(1px 1px 1px 1px);clip: rect(1px, 1px, 1px, 1px);height: 1px;margin: -1px;overflow: hidden;padding: 0;position: absolute;width: 1px;}#sk-container-id-2 div.sk-estimator {font-family: monospace;background-color: #f0f8ff;border: 1px dotted black;border-radius: 0.25em;box-sizing: border-box;margin-bottom: 0.5em;}#sk-container-id-2 div.sk-estimator:hover {background-color: #d4ebff;}#sk-container-id-2 div.sk-parallel-item::after {content: \"\";width: 100%;border-bottom: 1px solid gray;flex-grow: 1;}#sk-container-id-2 div.sk-label:hover label.sk-toggleable__label {background-color: #d4ebff;}#sk-container-id-2 div.sk-serial::before {content: \"\";position: absolute;border-left: 1px solid gray;box-sizing: border-box;top: 0;bottom: 0;left: 50%;z-index: 0;}#sk-container-id-2 div.sk-serial {display: flex;flex-direction: column;align-items: center;background-color: white;padding-right: 0.2em;padding-left: 0.2em;position: relative;}#sk-container-id-2 div.sk-item {position: relative;z-index: 1;}#sk-container-id-2 div.sk-parallel {display: flex;align-items: stretch;justify-content: center;background-color: white;position: relative;}#sk-container-id-2 div.sk-item::before, #sk-container-id-2 div.sk-parallel-item::before {content: \"\";position: absolute;border-left: 1px solid gray;box-sizing: border-box;top: 0;bottom: 0;left: 50%;z-index: -1;}#sk-container-id-2 div.sk-parallel-item {display: flex;flex-direction: column;z-index: 1;position: relative;background-color: white;}#sk-container-id-2 div.sk-parallel-item:first-child::after {align-self: flex-end;width: 50%;}#sk-container-id-2 div.sk-parallel-item:last-child::after {align-self: flex-start;width: 50%;}#sk-container-id-2 div.sk-parallel-item:only-child::after {width: 0;}#sk-container-id-2 div.sk-dashed-wrapped {border: 1px dashed gray;margin: 0 0.4em 0.5em 0.4em;box-sizing: border-box;padding-bottom: 0.4em;background-color: white;}#sk-container-id-2 div.sk-label label {font-family: monospace;font-weight: bold;display: inline-block;line-height: 1.2em;}#sk-container-id-2 div.sk-label-container {text-align: center;}#sk-container-id-2 div.sk-container {/* jupyter's `normalize.less` sets `[hidden] { display: none; }` but bootstrap.min.css set `[hidden] { display: none !important; }` so we also need the `!important` here to be able to override the default hidden behavior on the sphinx rendered scikit-learn.org. See: https://github.com/scikit-learn/scikit-learn/issues/21755 */display: inline-block !important;position: relative;}#sk-container-id-2 div.sk-text-repr-fallback {display: none;}</style><div id=\"sk-container-id-2\" class=\"sk-top-container\"><div class=\"sk-text-repr-fallback\"><pre>RandomForestRegressor()</pre><b>In a Jupyter environment, please rerun this cell to show the HTML representation or trust the notebook. <br />On GitHub, the HTML representation is unable to render, please try loading this page with nbviewer.org.</b></div><div class=\"sk-container\" hidden><div class=\"sk-item\"><div class=\"sk-estimator sk-toggleable\"><input class=\"sk-toggleable__control sk-hidden--visually\" id=\"sk-estimator-id-2\" type=\"checkbox\" checked><label for=\"sk-estimator-id-2\" class=\"sk-toggleable__label sk-toggleable__label-arrow\">RandomForestRegressor</label><div class=\"sk-toggleable__content\"><pre>RandomForestRegressor()</pre></div></div></div></div></div>"
      ],
      "text/plain": [
       "RandomForestRegressor()"
      ]
     },
     "execution_count": 42,
     "metadata": {},
     "output_type": "execute_result"
    }
   ],
   "source": [
    "model  = RandomForestRegressor()\n",
    "model.fit(X_train, y_train)"
   ]
  },
  {
   "cell_type": "code",
   "execution_count": 43,
   "id": "ecfc3180",
   "metadata": {
    "execution": {
     "iopub.execute_input": "2023-12-02T12:34:42.252252Z",
     "iopub.status.busy": "2023-12-02T12:34:42.251238Z",
     "iopub.status.idle": "2023-12-02T12:34:42.267983Z",
     "shell.execute_reply": "2023-12-02T12:34:42.266871Z"
    },
    "papermill": {
     "duration": 0.051051,
     "end_time": "2023-12-02T12:34:42.270566",
     "exception": false,
     "start_time": "2023-12-02T12:34:42.219515",
     "status": "completed"
    },
    "tags": []
   },
   "outputs": [
    {
     "data": {
      "text/plain": [
       "31.44240334217081"
      ]
     },
     "execution_count": 43,
     "metadata": {},
     "output_type": "execute_result"
    }
   ],
   "source": [
    "model.score(X_test, y_test)*100"
   ]
  },
  {
   "cell_type": "code",
   "execution_count": 44,
   "id": "fcab95ca",
   "metadata": {
    "execution": {
     "iopub.execute_input": "2023-12-02T12:34:42.333013Z",
     "iopub.status.busy": "2023-12-02T12:34:42.332623Z",
     "iopub.status.idle": "2023-12-02T12:34:42.337198Z",
     "shell.execute_reply": "2023-12-02T12:34:42.336065Z"
    },
    "papermill": {
     "duration": 0.039085,
     "end_time": "2023-12-02T12:34:42.339744",
     "exception": false,
     "start_time": "2023-12-02T12:34:42.300659",
     "status": "completed"
    },
    "tags": []
   },
   "outputs": [],
   "source": [
    "from sklearn.tree import DecisionTreeRegressor"
   ]
  },
  {
   "cell_type": "code",
   "execution_count": 45,
   "id": "42294d63",
   "metadata": {
    "execution": {
     "iopub.execute_input": "2023-12-02T12:34:42.403432Z",
     "iopub.status.busy": "2023-12-02T12:34:42.402991Z",
     "iopub.status.idle": "2023-12-02T12:34:42.491963Z",
     "shell.execute_reply": "2023-12-02T12:34:42.491005Z"
    },
    "papermill": {
     "duration": 0.124066,
     "end_time": "2023-12-02T12:34:42.494469",
     "exception": false,
     "start_time": "2023-12-02T12:34:42.370403",
     "status": "completed"
    },
    "tags": []
   },
   "outputs": [
    {
     "name": "stdout",
     "output_type": "stream",
     "text": [
      "5 23.632003034396664\n",
      "6 21.11924967173061\n",
      "7 17.82413204038872\n",
      "8 18.4250848147125\n",
      "9 15.956821465243465\n",
      "10 21.31429245170381\n",
      "11 13.360593225398198\n",
      "12 21.06127020799008\n",
      "13 12.260496513599362\n",
      "14 16.66088336079472\n",
      "15 16.66088336079472\n",
      "16 21.06127020799008\n",
      "17 21.06127020799008\n",
      "18 12.260496513599362\n",
      "19 12.260496513599362\n",
      "20 7.860109666404003\n",
      "21 7.860109666404003\n",
      "22 7.860109666404003\n",
      "23 12.260496513599362\n",
      "24 21.06127020799008\n"
     ]
    }
   ],
   "source": [
    "for i in range(5,25):\n",
    "    model = DecisionTreeRegressor(max_depth=i,)\n",
    "    model.fit(X_train, y_train)\n",
    "    print(i, model.score(X_test,y_test) * 100)"
   ]
  },
  {
   "cell_type": "code",
   "execution_count": 46,
   "id": "a204e3f7",
   "metadata": {
    "execution": {
     "iopub.execute_input": "2023-12-02T12:34:42.557128Z",
     "iopub.status.busy": "2023-12-02T12:34:42.556650Z",
     "iopub.status.idle": "2023-12-02T12:34:42.569058Z",
     "shell.execute_reply": "2023-12-02T12:34:42.567890Z"
    },
    "papermill": {
     "duration": 0.047276,
     "end_time": "2023-12-02T12:34:42.572167",
     "exception": false,
     "start_time": "2023-12-02T12:34:42.524891",
     "status": "completed"
    },
    "tags": []
   },
   "outputs": [
    {
     "data": {
      "text/html": [
       "<style>#sk-container-id-3 {color: black;}#sk-container-id-3 pre{padding: 0;}#sk-container-id-3 div.sk-toggleable {background-color: white;}#sk-container-id-3 label.sk-toggleable__label {cursor: pointer;display: block;width: 100%;margin-bottom: 0;padding: 0.3em;box-sizing: border-box;text-align: center;}#sk-container-id-3 label.sk-toggleable__label-arrow:before {content: \"▸\";float: left;margin-right: 0.25em;color: #696969;}#sk-container-id-3 label.sk-toggleable__label-arrow:hover:before {color: black;}#sk-container-id-3 div.sk-estimator:hover label.sk-toggleable__label-arrow:before {color: black;}#sk-container-id-3 div.sk-toggleable__content {max-height: 0;max-width: 0;overflow: hidden;text-align: left;background-color: #f0f8ff;}#sk-container-id-3 div.sk-toggleable__content pre {margin: 0.2em;color: black;border-radius: 0.25em;background-color: #f0f8ff;}#sk-container-id-3 input.sk-toggleable__control:checked~div.sk-toggleable__content {max-height: 200px;max-width: 100%;overflow: auto;}#sk-container-id-3 input.sk-toggleable__control:checked~label.sk-toggleable__label-arrow:before {content: \"▾\";}#sk-container-id-3 div.sk-estimator input.sk-toggleable__control:checked~label.sk-toggleable__label {background-color: #d4ebff;}#sk-container-id-3 div.sk-label input.sk-toggleable__control:checked~label.sk-toggleable__label {background-color: #d4ebff;}#sk-container-id-3 input.sk-hidden--visually {border: 0;clip: rect(1px 1px 1px 1px);clip: rect(1px, 1px, 1px, 1px);height: 1px;margin: -1px;overflow: hidden;padding: 0;position: absolute;width: 1px;}#sk-container-id-3 div.sk-estimator {font-family: monospace;background-color: #f0f8ff;border: 1px dotted black;border-radius: 0.25em;box-sizing: border-box;margin-bottom: 0.5em;}#sk-container-id-3 div.sk-estimator:hover {background-color: #d4ebff;}#sk-container-id-3 div.sk-parallel-item::after {content: \"\";width: 100%;border-bottom: 1px solid gray;flex-grow: 1;}#sk-container-id-3 div.sk-label:hover label.sk-toggleable__label {background-color: #d4ebff;}#sk-container-id-3 div.sk-serial::before {content: \"\";position: absolute;border-left: 1px solid gray;box-sizing: border-box;top: 0;bottom: 0;left: 50%;z-index: 0;}#sk-container-id-3 div.sk-serial {display: flex;flex-direction: column;align-items: center;background-color: white;padding-right: 0.2em;padding-left: 0.2em;position: relative;}#sk-container-id-3 div.sk-item {position: relative;z-index: 1;}#sk-container-id-3 div.sk-parallel {display: flex;align-items: stretch;justify-content: center;background-color: white;position: relative;}#sk-container-id-3 div.sk-item::before, #sk-container-id-3 div.sk-parallel-item::before {content: \"\";position: absolute;border-left: 1px solid gray;box-sizing: border-box;top: 0;bottom: 0;left: 50%;z-index: -1;}#sk-container-id-3 div.sk-parallel-item {display: flex;flex-direction: column;z-index: 1;position: relative;background-color: white;}#sk-container-id-3 div.sk-parallel-item:first-child::after {align-self: flex-end;width: 50%;}#sk-container-id-3 div.sk-parallel-item:last-child::after {align-self: flex-start;width: 50%;}#sk-container-id-3 div.sk-parallel-item:only-child::after {width: 0;}#sk-container-id-3 div.sk-dashed-wrapped {border: 1px dashed gray;margin: 0 0.4em 0.5em 0.4em;box-sizing: border-box;padding-bottom: 0.4em;background-color: white;}#sk-container-id-3 div.sk-label label {font-family: monospace;font-weight: bold;display: inline-block;line-height: 1.2em;}#sk-container-id-3 div.sk-label-container {text-align: center;}#sk-container-id-3 div.sk-container {/* jupyter's `normalize.less` sets `[hidden] { display: none; }` but bootstrap.min.css set `[hidden] { display: none !important; }` so we also need the `!important` here to be able to override the default hidden behavior on the sphinx rendered scikit-learn.org. See: https://github.com/scikit-learn/scikit-learn/issues/21755 */display: inline-block !important;position: relative;}#sk-container-id-3 div.sk-text-repr-fallback {display: none;}</style><div id=\"sk-container-id-3\" class=\"sk-top-container\"><div class=\"sk-text-repr-fallback\"><pre>DecisionTreeRegressor()</pre><b>In a Jupyter environment, please rerun this cell to show the HTML representation or trust the notebook. <br />On GitHub, the HTML representation is unable to render, please try loading this page with nbviewer.org.</b></div><div class=\"sk-container\" hidden><div class=\"sk-item\"><div class=\"sk-estimator sk-toggleable\"><input class=\"sk-toggleable__control sk-hidden--visually\" id=\"sk-estimator-id-3\" type=\"checkbox\" checked><label for=\"sk-estimator-id-3\" class=\"sk-toggleable__label sk-toggleable__label-arrow\">DecisionTreeRegressor</label><div class=\"sk-toggleable__content\"><pre>DecisionTreeRegressor()</pre></div></div></div></div></div>"
      ],
      "text/plain": [
       "DecisionTreeRegressor()"
      ]
     },
     "execution_count": 46,
     "metadata": {},
     "output_type": "execute_result"
    }
   ],
   "source": [
    "model = DecisionTreeRegressor()\n",
    "model.fit(X_train, y_train)"
   ]
  },
  {
   "cell_type": "code",
   "execution_count": 47,
   "id": "6c94448d",
   "metadata": {
    "execution": {
     "iopub.execute_input": "2023-12-02T12:34:42.636858Z",
     "iopub.status.busy": "2023-12-02T12:34:42.635618Z",
     "iopub.status.idle": "2023-12-02T12:34:42.645991Z",
     "shell.execute_reply": "2023-12-02T12:34:42.644569Z"
    },
    "papermill": {
     "duration": 0.04622,
     "end_time": "2023-12-02T12:34:42.648841",
     "exception": false,
     "start_time": "2023-12-02T12:34:42.602621",
     "status": "completed"
    },
    "tags": []
   },
   "outputs": [
    {
     "data": {
      "text/plain": [
       "0.12260496513599362"
      ]
     },
     "execution_count": 47,
     "metadata": {},
     "output_type": "execute_result"
    }
   ],
   "source": [
    "model.score(X_test, y_test)"
   ]
  },
  {
   "cell_type": "code",
   "execution_count": 48,
   "id": "edab55d8",
   "metadata": {
    "execution": {
     "iopub.execute_input": "2023-12-02T12:34:42.713879Z",
     "iopub.status.busy": "2023-12-02T12:34:42.713460Z",
     "iopub.status.idle": "2023-12-02T12:34:42.718804Z",
     "shell.execute_reply": "2023-12-02T12:34:42.717443Z"
    },
    "papermill": {
     "duration": 0.040896,
     "end_time": "2023-12-02T12:34:42.721419",
     "exception": false,
     "start_time": "2023-12-02T12:34:42.680523",
     "status": "completed"
    },
    "tags": []
   },
   "outputs": [],
   "source": [
    "from sklearn.neighbors import KNeighborsClassifier"
   ]
  },
  {
   "cell_type": "code",
   "execution_count": 49,
   "id": "73700977",
   "metadata": {
    "execution": {
     "iopub.execute_input": "2023-12-02T12:34:42.788702Z",
     "iopub.status.busy": "2023-12-02T12:34:42.787876Z",
     "iopub.status.idle": "2023-12-02T12:34:42.793888Z",
     "shell.execute_reply": "2023-12-02T12:34:42.792591Z"
    },
    "papermill": {
     "duration": 0.0427,
     "end_time": "2023-12-02T12:34:42.796924",
     "exception": false,
     "start_time": "2023-12-02T12:34:42.754224",
     "status": "completed"
    },
    "tags": []
   },
   "outputs": [],
   "source": [
    "model = KNeighborsClassifier()"
   ]
  },
  {
   "cell_type": "code",
   "execution_count": 50,
   "id": "8e5f2f82",
   "metadata": {
    "execution": {
     "iopub.execute_input": "2023-12-02T12:34:42.862262Z",
     "iopub.status.busy": "2023-12-02T12:34:42.861610Z",
     "iopub.status.idle": "2023-12-02T12:34:42.872590Z",
     "shell.execute_reply": "2023-12-02T12:34:42.871357Z"
    },
    "papermill": {
     "duration": 0.045726,
     "end_time": "2023-12-02T12:34:42.875277",
     "exception": false,
     "start_time": "2023-12-02T12:34:42.829551",
     "status": "completed"
    },
    "tags": []
   },
   "outputs": [
    {
     "data": {
      "text/html": [
       "<style>#sk-container-id-4 {color: black;}#sk-container-id-4 pre{padding: 0;}#sk-container-id-4 div.sk-toggleable {background-color: white;}#sk-container-id-4 label.sk-toggleable__label {cursor: pointer;display: block;width: 100%;margin-bottom: 0;padding: 0.3em;box-sizing: border-box;text-align: center;}#sk-container-id-4 label.sk-toggleable__label-arrow:before {content: \"▸\";float: left;margin-right: 0.25em;color: #696969;}#sk-container-id-4 label.sk-toggleable__label-arrow:hover:before {color: black;}#sk-container-id-4 div.sk-estimator:hover label.sk-toggleable__label-arrow:before {color: black;}#sk-container-id-4 div.sk-toggleable__content {max-height: 0;max-width: 0;overflow: hidden;text-align: left;background-color: #f0f8ff;}#sk-container-id-4 div.sk-toggleable__content pre {margin: 0.2em;color: black;border-radius: 0.25em;background-color: #f0f8ff;}#sk-container-id-4 input.sk-toggleable__control:checked~div.sk-toggleable__content {max-height: 200px;max-width: 100%;overflow: auto;}#sk-container-id-4 input.sk-toggleable__control:checked~label.sk-toggleable__label-arrow:before {content: \"▾\";}#sk-container-id-4 div.sk-estimator input.sk-toggleable__control:checked~label.sk-toggleable__label {background-color: #d4ebff;}#sk-container-id-4 div.sk-label input.sk-toggleable__control:checked~label.sk-toggleable__label {background-color: #d4ebff;}#sk-container-id-4 input.sk-hidden--visually {border: 0;clip: rect(1px 1px 1px 1px);clip: rect(1px, 1px, 1px, 1px);height: 1px;margin: -1px;overflow: hidden;padding: 0;position: absolute;width: 1px;}#sk-container-id-4 div.sk-estimator {font-family: monospace;background-color: #f0f8ff;border: 1px dotted black;border-radius: 0.25em;box-sizing: border-box;margin-bottom: 0.5em;}#sk-container-id-4 div.sk-estimator:hover {background-color: #d4ebff;}#sk-container-id-4 div.sk-parallel-item::after {content: \"\";width: 100%;border-bottom: 1px solid gray;flex-grow: 1;}#sk-container-id-4 div.sk-label:hover label.sk-toggleable__label {background-color: #d4ebff;}#sk-container-id-4 div.sk-serial::before {content: \"\";position: absolute;border-left: 1px solid gray;box-sizing: border-box;top: 0;bottom: 0;left: 50%;z-index: 0;}#sk-container-id-4 div.sk-serial {display: flex;flex-direction: column;align-items: center;background-color: white;padding-right: 0.2em;padding-left: 0.2em;position: relative;}#sk-container-id-4 div.sk-item {position: relative;z-index: 1;}#sk-container-id-4 div.sk-parallel {display: flex;align-items: stretch;justify-content: center;background-color: white;position: relative;}#sk-container-id-4 div.sk-item::before, #sk-container-id-4 div.sk-parallel-item::before {content: \"\";position: absolute;border-left: 1px solid gray;box-sizing: border-box;top: 0;bottom: 0;left: 50%;z-index: -1;}#sk-container-id-4 div.sk-parallel-item {display: flex;flex-direction: column;z-index: 1;position: relative;background-color: white;}#sk-container-id-4 div.sk-parallel-item:first-child::after {align-self: flex-end;width: 50%;}#sk-container-id-4 div.sk-parallel-item:last-child::after {align-self: flex-start;width: 50%;}#sk-container-id-4 div.sk-parallel-item:only-child::after {width: 0;}#sk-container-id-4 div.sk-dashed-wrapped {border: 1px dashed gray;margin: 0 0.4em 0.5em 0.4em;box-sizing: border-box;padding-bottom: 0.4em;background-color: white;}#sk-container-id-4 div.sk-label label {font-family: monospace;font-weight: bold;display: inline-block;line-height: 1.2em;}#sk-container-id-4 div.sk-label-container {text-align: center;}#sk-container-id-4 div.sk-container {/* jupyter's `normalize.less` sets `[hidden] { display: none; }` but bootstrap.min.css set `[hidden] { display: none !important; }` so we also need the `!important` here to be able to override the default hidden behavior on the sphinx rendered scikit-learn.org. See: https://github.com/scikit-learn/scikit-learn/issues/21755 */display: inline-block !important;position: relative;}#sk-container-id-4 div.sk-text-repr-fallback {display: none;}</style><div id=\"sk-container-id-4\" class=\"sk-top-container\"><div class=\"sk-text-repr-fallback\"><pre>KNeighborsClassifier()</pre><b>In a Jupyter environment, please rerun this cell to show the HTML representation or trust the notebook. <br />On GitHub, the HTML representation is unable to render, please try loading this page with nbviewer.org.</b></div><div class=\"sk-container\" hidden><div class=\"sk-item\"><div class=\"sk-estimator sk-toggleable\"><input class=\"sk-toggleable__control sk-hidden--visually\" id=\"sk-estimator-id-4\" type=\"checkbox\" checked><label for=\"sk-estimator-id-4\" class=\"sk-toggleable__label sk-toggleable__label-arrow\">KNeighborsClassifier</label><div class=\"sk-toggleable__content\"><pre>KNeighborsClassifier()</pre></div></div></div></div></div>"
      ],
      "text/plain": [
       "KNeighborsClassifier()"
      ]
     },
     "execution_count": 50,
     "metadata": {},
     "output_type": "execute_result"
    }
   ],
   "source": [
    "model.fit(X_train, y_train)"
   ]
  },
  {
   "cell_type": "code",
   "execution_count": 51,
   "id": "1fb88895",
   "metadata": {
    "execution": {
     "iopub.execute_input": "2023-12-02T12:34:42.942075Z",
     "iopub.status.busy": "2023-12-02T12:34:42.941675Z",
     "iopub.status.idle": "2023-12-02T12:34:42.960229Z",
     "shell.execute_reply": "2023-12-02T12:34:42.959046Z"
    },
    "papermill": {
     "duration": 0.055362,
     "end_time": "2023-12-02T12:34:42.962717",
     "exception": false,
     "start_time": "2023-12-02T12:34:42.907355",
     "status": "completed"
    },
    "tags": []
   },
   "outputs": [
    {
     "data": {
      "text/plain": [
       "0.7912087912087912"
      ]
     },
     "execution_count": 51,
     "metadata": {},
     "output_type": "execute_result"
    }
   ],
   "source": [
    "model.score(X_test, y_test)"
   ]
  },
  {
   "cell_type": "markdown",
   "id": "8b31ea76",
   "metadata": {
    "papermill": {
     "duration": 0.030739,
     "end_time": "2023-12-02T12:34:43.024496",
     "exception": false,
     "start_time": "2023-12-02T12:34:42.993757",
     "status": "completed"
    },
    "tags": []
   },
   "source": [
    "# Settle on KNN"
   ]
  },
  {
   "cell_type": "code",
   "execution_count": 65,
   "id": "bd36f294",
   "metadata": {
    "execution": {
     "iopub.execute_input": "2023-12-02T12:34:43.089083Z",
     "iopub.status.busy": "2023-12-02T12:34:43.088651Z",
     "iopub.status.idle": "2023-12-02T12:34:43.093814Z",
     "shell.execute_reply": "2023-12-02T12:34:43.092670Z"
    },
    "papermill": {
     "duration": 0.040444,
     "end_time": "2023-12-02T12:34:43.096337",
     "exception": false,
     "start_time": "2023-12-02T12:34:43.055893",
     "status": "completed"
    },
    "tags": []
   },
   "outputs": [],
   "source": [
    "from sklearn.neighbors import KNeighborsClassifier"
   ]
  },
  {
   "cell_type": "code",
   "execution_count": 66,
   "id": "b8e89b77",
   "metadata": {
    "execution": {
     "iopub.execute_input": "2023-12-02T12:34:43.161335Z",
     "iopub.status.busy": "2023-12-02T12:34:43.160925Z",
     "iopub.status.idle": "2023-12-02T12:34:43.166164Z",
     "shell.execute_reply": "2023-12-02T12:34:43.164920Z"
    },
    "papermill": {
     "duration": 0.040172,
     "end_time": "2023-12-02T12:34:43.168465",
     "exception": false,
     "start_time": "2023-12-02T12:34:43.128293",
     "status": "completed"
    },
    "tags": []
   },
   "outputs": [],
   "source": [
    "model = KNeighborsClassifier()"
   ]
  },
  {
   "cell_type": "code",
   "execution_count": 67,
   "id": "a021b879",
   "metadata": {
    "execution": {
     "iopub.execute_input": "2023-12-02T12:34:43.232413Z",
     "iopub.status.busy": "2023-12-02T12:34:43.232003Z",
     "iopub.status.idle": "2023-12-02T12:34:43.241589Z",
     "shell.execute_reply": "2023-12-02T12:34:43.240788Z"
    },
    "papermill": {
     "duration": 0.04465,
     "end_time": "2023-12-02T12:34:43.244148",
     "exception": false,
     "start_time": "2023-12-02T12:34:43.199498",
     "status": "completed"
    },
    "tags": []
   },
   "outputs": [
    {
     "data": {
      "text/html": [
       "<style>#sk-container-id-6 {color: black;}#sk-container-id-6 pre{padding: 0;}#sk-container-id-6 div.sk-toggleable {background-color: white;}#sk-container-id-6 label.sk-toggleable__label {cursor: pointer;display: block;width: 100%;margin-bottom: 0;padding: 0.3em;box-sizing: border-box;text-align: center;}#sk-container-id-6 label.sk-toggleable__label-arrow:before {content: \"▸\";float: left;margin-right: 0.25em;color: #696969;}#sk-container-id-6 label.sk-toggleable__label-arrow:hover:before {color: black;}#sk-container-id-6 div.sk-estimator:hover label.sk-toggleable__label-arrow:before {color: black;}#sk-container-id-6 div.sk-toggleable__content {max-height: 0;max-width: 0;overflow: hidden;text-align: left;background-color: #f0f8ff;}#sk-container-id-6 div.sk-toggleable__content pre {margin: 0.2em;color: black;border-radius: 0.25em;background-color: #f0f8ff;}#sk-container-id-6 input.sk-toggleable__control:checked~div.sk-toggleable__content {max-height: 200px;max-width: 100%;overflow: auto;}#sk-container-id-6 input.sk-toggleable__control:checked~label.sk-toggleable__label-arrow:before {content: \"▾\";}#sk-container-id-6 div.sk-estimator input.sk-toggleable__control:checked~label.sk-toggleable__label {background-color: #d4ebff;}#sk-container-id-6 div.sk-label input.sk-toggleable__control:checked~label.sk-toggleable__label {background-color: #d4ebff;}#sk-container-id-6 input.sk-hidden--visually {border: 0;clip: rect(1px 1px 1px 1px);clip: rect(1px, 1px, 1px, 1px);height: 1px;margin: -1px;overflow: hidden;padding: 0;position: absolute;width: 1px;}#sk-container-id-6 div.sk-estimator {font-family: monospace;background-color: #f0f8ff;border: 1px dotted black;border-radius: 0.25em;box-sizing: border-box;margin-bottom: 0.5em;}#sk-container-id-6 div.sk-estimator:hover {background-color: #d4ebff;}#sk-container-id-6 div.sk-parallel-item::after {content: \"\";width: 100%;border-bottom: 1px solid gray;flex-grow: 1;}#sk-container-id-6 div.sk-label:hover label.sk-toggleable__label {background-color: #d4ebff;}#sk-container-id-6 div.sk-serial::before {content: \"\";position: absolute;border-left: 1px solid gray;box-sizing: border-box;top: 0;bottom: 0;left: 50%;z-index: 0;}#sk-container-id-6 div.sk-serial {display: flex;flex-direction: column;align-items: center;background-color: white;padding-right: 0.2em;padding-left: 0.2em;position: relative;}#sk-container-id-6 div.sk-item {position: relative;z-index: 1;}#sk-container-id-6 div.sk-parallel {display: flex;align-items: stretch;justify-content: center;background-color: white;position: relative;}#sk-container-id-6 div.sk-item::before, #sk-container-id-6 div.sk-parallel-item::before {content: \"\";position: absolute;border-left: 1px solid gray;box-sizing: border-box;top: 0;bottom: 0;left: 50%;z-index: -1;}#sk-container-id-6 div.sk-parallel-item {display: flex;flex-direction: column;z-index: 1;position: relative;background-color: white;}#sk-container-id-6 div.sk-parallel-item:first-child::after {align-self: flex-end;width: 50%;}#sk-container-id-6 div.sk-parallel-item:last-child::after {align-self: flex-start;width: 50%;}#sk-container-id-6 div.sk-parallel-item:only-child::after {width: 0;}#sk-container-id-6 div.sk-dashed-wrapped {border: 1px dashed gray;margin: 0 0.4em 0.5em 0.4em;box-sizing: border-box;padding-bottom: 0.4em;background-color: white;}#sk-container-id-6 div.sk-label label {font-family: monospace;font-weight: bold;display: inline-block;line-height: 1.2em;}#sk-container-id-6 div.sk-label-container {text-align: center;}#sk-container-id-6 div.sk-container {/* jupyter's `normalize.less` sets `[hidden] { display: none; }` but bootstrap.min.css set `[hidden] { display: none !important; }` so we also need the `!important` here to be able to override the default hidden behavior on the sphinx rendered scikit-learn.org. See: https://github.com/scikit-learn/scikit-learn/issues/21755 */display: inline-block !important;position: relative;}#sk-container-id-6 div.sk-text-repr-fallback {display: none;}</style><div id=\"sk-container-id-6\" class=\"sk-top-container\"><div class=\"sk-text-repr-fallback\"><pre>KNeighborsClassifier()</pre><b>In a Jupyter environment, please rerun this cell to show the HTML representation or trust the notebook. <br />On GitHub, the HTML representation is unable to render, please try loading this page with nbviewer.org.</b></div><div class=\"sk-container\" hidden><div class=\"sk-item\"><div class=\"sk-estimator sk-toggleable\"><input class=\"sk-toggleable__control sk-hidden--visually\" id=\"sk-estimator-id-6\" type=\"checkbox\" checked><label for=\"sk-estimator-id-6\" class=\"sk-toggleable__label sk-toggleable__label-arrow\">KNeighborsClassifier</label><div class=\"sk-toggleable__content\"><pre>KNeighborsClassifier()</pre></div></div></div></div></div>"
      ],
      "text/plain": [
       "KNeighborsClassifier()"
      ]
     },
     "execution_count": 67,
     "metadata": {},
     "output_type": "execute_result"
    }
   ],
   "source": [
    "model.fit(X_train, y_train)"
   ]
  },
  {
   "cell_type": "code",
   "execution_count": 68,
   "id": "abdabfdc",
   "metadata": {
    "execution": {
     "iopub.execute_input": "2023-12-02T12:34:43.308636Z",
     "iopub.status.busy": "2023-12-02T12:34:43.308168Z",
     "iopub.status.idle": "2023-12-02T12:34:43.330975Z",
     "shell.execute_reply": "2023-12-02T12:34:43.329666Z"
    },
    "papermill": {
     "duration": 0.058376,
     "end_time": "2023-12-02T12:34:43.333569",
     "exception": false,
     "start_time": "2023-12-02T12:34:43.275193",
     "status": "completed"
    },
    "tags": []
   },
   "outputs": [
    {
     "data": {
      "text/plain": [
       "0.7912087912087912"
      ]
     },
     "execution_count": 68,
     "metadata": {},
     "output_type": "execute_result"
    }
   ],
   "source": [
    "model.score(X_test, y_test)"
   ]
  },
  {
   "cell_type": "code",
   "execution_count": 69,
   "id": "753610cc",
   "metadata": {
    "execution": {
     "iopub.execute_input": "2023-12-02T12:34:43.399737Z",
     "iopub.status.busy": "2023-12-02T12:34:43.399249Z",
     "iopub.status.idle": "2023-12-02T12:34:43.417051Z",
     "shell.execute_reply": "2023-12-02T12:34:43.415623Z"
    },
    "papermill": {
     "duration": 0.054377,
     "end_time": "2023-12-02T12:34:43.420096",
     "exception": false,
     "start_time": "2023-12-02T12:34:43.365719",
     "status": "completed"
    },
    "tags": []
   },
   "outputs": [
    {
     "name": "stderr",
     "output_type": "stream",
     "text": [
      "c:\\Users\\tabis\\AppData\\Local\\Programs\\Python\\Python311\\Lib\\site-packages\\sklearn\\base.py:465: UserWarning: X does not have valid feature names, but KNeighborsClassifier was fitted with feature names\n",
      "  warnings.warn(\n"
     ]
    }
   ],
   "source": [
    "ypredMain = model.predict([[1,1,1,1.161075,2]])"
   ]
  },
  {
   "cell_type": "code",
   "execution_count": 70,
   "metadata": {},
   "outputs": [
    {
     "data": {
      "text/plain": [
       "array([0], dtype=int64)"
      ]
     },
     "execution_count": 70,
     "metadata": {},
     "output_type": "execute_result"
    }
   ],
   "source": [
    "ypredMain"
   ]
  },
  {
   "cell_type": "code",
   "execution_count": 58,
   "id": "2b4e3be0",
   "metadata": {
    "execution": {
     "iopub.execute_input": "2023-12-02T12:34:43.485211Z",
     "iopub.status.busy": "2023-12-02T12:34:43.484783Z",
     "iopub.status.idle": "2023-12-02T12:34:43.489867Z",
     "shell.execute_reply": "2023-12-02T12:34:43.488740Z"
    },
    "papermill": {
     "duration": 0.0401,
     "end_time": "2023-12-02T12:34:43.492071",
     "exception": false,
     "start_time": "2023-12-02T12:34:43.451971",
     "status": "completed"
    },
    "tags": []
   },
   "outputs": [],
   "source": [
    "from sklearn.metrics import confusion_matrix"
   ]
  },
  {
   "cell_type": "code",
   "execution_count": 59,
   "id": "c0dfdec5",
   "metadata": {
    "execution": {
     "iopub.execute_input": "2023-12-02T12:34:43.558330Z",
     "iopub.status.busy": "2023-12-02T12:34:43.557572Z",
     "iopub.status.idle": "2023-12-02T12:34:43.566642Z",
     "shell.execute_reply": "2023-12-02T12:34:43.565276Z"
    },
    "papermill": {
     "duration": 0.045619,
     "end_time": "2023-12-02T12:34:43.569357",
     "exception": false,
     "start_time": "2023-12-02T12:34:43.523738",
     "status": "completed"
    },
    "tags": []
   },
   "outputs": [
    {
     "data": {
      "text/plain": [
       "array([[29, 15],\n",
       "       [ 4, 43]], dtype=int64)"
      ]
     },
     "execution_count": 59,
     "metadata": {},
     "output_type": "execute_result"
    }
   ],
   "source": [
    "confusion_matrix(y_test, ypredMain)"
   ]
  },
  {
   "cell_type": "code",
   "execution_count": 60,
   "metadata": {},
   "outputs": [
    {
     "data": {
      "text/plain": [
       "['model.pkl']"
      ]
     },
     "execution_count": 60,
     "metadata": {},
     "output_type": "execute_result"
    }
   ],
   "source": [
    "import joblib\n",
    "joblib.dump(model, 'model.pkl')"
   ]
  },
  {
   "cell_type": "code",
   "execution_count": 61,
   "metadata": {},
   "outputs": [],
   "source": [
    "model = joblib.load('model.pkl')"
   ]
  },
  {
   "cell_type": "code",
   "execution_count": 64,
   "id": "2db8983a",
   "metadata": {},
   "outputs": [
    {
     "name": "stderr",
     "output_type": "stream",
     "text": [
      "c:\\Users\\tabis\\AppData\\Local\\Programs\\Python\\Python311\\Lib\\site-packages\\sklearn\\base.py:465: UserWarning: X does not have valid feature names, but KNeighborsClassifier was fitted with feature names\n",
      "  warnings.warn(\n"
     ]
    },
    {
     "data": {
      "text/plain": [
       "array([0], dtype=int64)"
      ]
     },
     "execution_count": 64,
     "metadata": {},
     "output_type": "execute_result"
    }
   ],
   "source": [
    "model.predict([[1,1,1,1.161075,2]])"
   ]
  },
  {
   "cell_type": "code",
   "execution_count": 62,
   "id": "1ecc283d",
   "metadata": {
    "papermill": {
     "duration": 0.032407,
     "end_time": "2023-12-02T12:34:43.633537",
     "exception": false,
     "start_time": "2023-12-02T12:34:43.601130",
     "status": "completed"
    },
    "tags": []
   },
   "outputs": [],
   "source": [
    "#import pickle as pkl"
   ]
  },
  {
   "cell_type": "code",
   "execution_count": 63,
   "metadata": {},
   "outputs": [],
   "source": [
    "#with open('model_knn', 'wb') as f:\n",
    "#    pkl.dump(model, f)"
   ]
  },
  {
   "cell_type": "code",
   "execution_count": null,
   "metadata": {},
   "outputs": [],
   "source": []
  }
 ],
 "metadata": {
  "kaggle": {
   "accelerator": "none",
   "dataSources": [
    {
     "datasetId": 1226038,
     "sourceId": 2047221,
     "sourceType": "datasetVersion"
    }
   ],
   "dockerImageVersionId": 30587,
   "isGpuEnabled": false,
   "isInternetEnabled": false,
   "language": "python",
   "sourceType": "notebook"
  },
  "kernelspec": {
   "display_name": "Python 3",
   "language": "python",
   "name": "python3"
  },
  "language_info": {
   "codemirror_mode": {
    "name": "ipython",
    "version": 3
   },
   "file_extension": ".py",
   "mimetype": "text/x-python",
   "name": "python",
   "nbconvert_exporter": "python",
   "pygments_lexer": "ipython3",
   "version": "3.11.3"
  },
  "papermill": {
   "default_parameters": {},
   "duration": 28.263496,
   "end_time": "2023-12-02T12:34:44.488079",
   "environment_variables": {},
   "exception": null,
   "input_path": "__notebook__.ipynb",
   "output_path": "__notebook__.ipynb",
   "parameters": {},
   "start_time": "2023-12-02T12:34:16.224583",
   "version": "2.4.0"
  }
 },
 "nbformat": 4,
 "nbformat_minor": 5
}
